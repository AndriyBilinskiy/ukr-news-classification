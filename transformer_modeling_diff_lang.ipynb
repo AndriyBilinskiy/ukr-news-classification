{
 "cells": [
  {
   "cell_type": "code",
   "execution_count": 1,
   "id": "604d4cb2-0c24-4bf7-b44b-0081ec98aa1b",
   "metadata": {
    "ExecuteTime": {
     "end_time": "2023-12-10T19:41:52.282985Z",
     "start_time": "2023-12-10T19:41:50.687507Z"
    },
    "scrolled": true
   },
   "outputs": [
    {
     "name": "stdout",
     "output_type": "stream",
     "text": [
      "Requirement already satisfied: transformers in ./venv/lib/python3.9/site-packages (4.35.2)\r\n",
      "Requirement already satisfied: filelock in ./venv/lib/python3.9/site-packages (from transformers) (3.13.1)\r\n",
      "Requirement already satisfied: tqdm>=4.27 in ./venv/lib/python3.9/site-packages (from transformers) (4.66.1)\r\n",
      "Requirement already satisfied: packaging>=20.0 in ./venv/lib/python3.9/site-packages (from transformers) (23.2)\r\n",
      "Requirement already satisfied: pyyaml>=5.1 in ./venv/lib/python3.9/site-packages (from transformers) (6.0.1)\r\n",
      "Requirement already satisfied: numpy>=1.17 in ./venv/lib/python3.9/site-packages (from transformers) (1.26.2)\r\n",
      "Requirement already satisfied: safetensors>=0.3.1 in ./venv/lib/python3.9/site-packages (from transformers) (0.4.1)\r\n",
      "Requirement already satisfied: huggingface-hub<1.0,>=0.16.4 in ./venv/lib/python3.9/site-packages (from transformers) (0.19.4)\r\n",
      "Requirement already satisfied: regex!=2019.12.17 in ./venv/lib/python3.9/site-packages (from transformers) (2023.10.3)\r\n",
      "Requirement already satisfied: tokenizers<0.19,>=0.14 in ./venv/lib/python3.9/site-packages (from transformers) (0.15.0)\r\n",
      "Requirement already satisfied: requests in ./venv/lib/python3.9/site-packages (from transformers) (2.31.0)\r\n",
      "Requirement already satisfied: typing-extensions>=3.7.4.3 in ./venv/lib/python3.9/site-packages (from huggingface-hub<1.0,>=0.16.4->transformers) (4.8.0)\r\n",
      "Requirement already satisfied: fsspec>=2023.5.0 in ./venv/lib/python3.9/site-packages (from huggingface-hub<1.0,>=0.16.4->transformers) (2023.10.0)\r\n",
      "Requirement already satisfied: certifi>=2017.4.17 in ./venv/lib/python3.9/site-packages (from requests->transformers) (2023.11.17)\r\n",
      "Requirement already satisfied: charset-normalizer<4,>=2 in ./venv/lib/python3.9/site-packages (from requests->transformers) (3.3.2)\r\n",
      "Requirement already satisfied: urllib3<3,>=1.21.1 in ./venv/lib/python3.9/site-packages (from requests->transformers) (2.1.0)\r\n",
      "Requirement already satisfied: idna<4,>=2.5 in ./venv/lib/python3.9/site-packages (from requests->transformers) (3.6)\r\n",
      "\u001b[33mWARNING: There was an error checking the latest version of pip.\u001b[0m\u001b[33m\r\n",
      "\u001b[0mNote: you may need to restart the kernel to use updated packages.\n"
     ]
    }
   ],
   "source": [
    "pip install transformers"
   ]
  },
  {
   "cell_type": "code",
   "execution_count": 2,
   "id": "e656f7d2-b727-48bc-a5bb-9e500504344a",
   "metadata": {
    "ExecuteTime": {
     "end_time": "2023-12-10T19:41:53.756968Z",
     "start_time": "2023-12-10T19:41:52.284414Z"
    }
   },
   "outputs": [
    {
     "name": "stdout",
     "output_type": "stream",
     "text": [
      "Requirement already satisfied: datasets in ./venv/lib/python3.9/site-packages (2.15.0)\r\n",
      "Requirement already satisfied: pandas in ./venv/lib/python3.9/site-packages (from datasets) (2.1.3)\r\n",
      "Requirement already satisfied: requests>=2.19.0 in ./venv/lib/python3.9/site-packages (from datasets) (2.31.0)\r\n",
      "Requirement already satisfied: numpy>=1.17 in ./venv/lib/python3.9/site-packages (from datasets) (1.26.2)\r\n",
      "Requirement already satisfied: huggingface-hub>=0.18.0 in ./venv/lib/python3.9/site-packages (from datasets) (0.19.4)\r\n",
      "Requirement already satisfied: packaging in ./venv/lib/python3.9/site-packages (from datasets) (23.2)\r\n",
      "Requirement already satisfied: fsspec[http]<=2023.10.0,>=2023.1.0 in ./venv/lib/python3.9/site-packages (from datasets) (2023.10.0)\r\n",
      "Requirement already satisfied: tqdm>=4.62.1 in ./venv/lib/python3.9/site-packages (from datasets) (4.66.1)\r\n",
      "Requirement already satisfied: xxhash in ./venv/lib/python3.9/site-packages (from datasets) (3.4.1)\r\n",
      "Requirement already satisfied: pyarrow-hotfix in ./venv/lib/python3.9/site-packages (from datasets) (0.6)\r\n",
      "Requirement already satisfied: aiohttp in ./venv/lib/python3.9/site-packages (from datasets) (3.9.1)\r\n",
      "Requirement already satisfied: pyyaml>=5.1 in ./venv/lib/python3.9/site-packages (from datasets) (6.0.1)\r\n",
      "Requirement already satisfied: multiprocess in ./venv/lib/python3.9/site-packages (from datasets) (0.70.15)\r\n",
      "Requirement already satisfied: pyarrow>=8.0.0 in ./venv/lib/python3.9/site-packages (from datasets) (14.0.1)\r\n",
      "Requirement already satisfied: dill<0.3.8,>=0.3.0 in ./venv/lib/python3.9/site-packages (from datasets) (0.3.7)\r\n",
      "Requirement already satisfied: multidict<7.0,>=4.5 in ./venv/lib/python3.9/site-packages (from aiohttp->datasets) (6.0.4)\r\n",
      "Requirement already satisfied: frozenlist>=1.1.1 in ./venv/lib/python3.9/site-packages (from aiohttp->datasets) (1.4.0)\r\n",
      "Requirement already satisfied: yarl<2.0,>=1.0 in ./venv/lib/python3.9/site-packages (from aiohttp->datasets) (1.9.4)\r\n",
      "Requirement already satisfied: aiosignal>=1.1.2 in ./venv/lib/python3.9/site-packages (from aiohttp->datasets) (1.3.1)\r\n",
      "Requirement already satisfied: attrs>=17.3.0 in ./venv/lib/python3.9/site-packages (from aiohttp->datasets) (23.1.0)\r\n",
      "Requirement already satisfied: async-timeout<5.0,>=4.0 in ./venv/lib/python3.9/site-packages (from aiohttp->datasets) (4.0.3)\r\n",
      "Requirement already satisfied: filelock in ./venv/lib/python3.9/site-packages (from huggingface-hub>=0.18.0->datasets) (3.13.1)\r\n",
      "Requirement already satisfied: typing-extensions>=3.7.4.3 in ./venv/lib/python3.9/site-packages (from huggingface-hub>=0.18.0->datasets) (4.8.0)\r\n",
      "Requirement already satisfied: charset-normalizer<4,>=2 in ./venv/lib/python3.9/site-packages (from requests>=2.19.0->datasets) (3.3.2)\r\n",
      "Requirement already satisfied: idna<4,>=2.5 in ./venv/lib/python3.9/site-packages (from requests>=2.19.0->datasets) (3.6)\r\n",
      "Requirement already satisfied: certifi>=2017.4.17 in ./venv/lib/python3.9/site-packages (from requests>=2.19.0->datasets) (2023.11.17)\r\n",
      "Requirement already satisfied: urllib3<3,>=1.21.1 in ./venv/lib/python3.9/site-packages (from requests>=2.19.0->datasets) (2.1.0)\r\n",
      "Requirement already satisfied: tzdata>=2022.1 in ./venv/lib/python3.9/site-packages (from pandas->datasets) (2023.3)\r\n",
      "Requirement already satisfied: python-dateutil>=2.8.2 in ./venv/lib/python3.9/site-packages (from pandas->datasets) (2.8.2)\r\n",
      "Requirement already satisfied: pytz>=2020.1 in ./venv/lib/python3.9/site-packages (from pandas->datasets) (2023.3.post1)\r\n",
      "Requirement already satisfied: six>=1.5 in ./venv/lib/python3.9/site-packages (from python-dateutil>=2.8.2->pandas->datasets) (1.16.0)\r\n",
      "\u001b[33mWARNING: There was an error checking the latest version of pip.\u001b[0m\u001b[33m\r\n",
      "\u001b[0mNote: you may need to restart the kernel to use updated packages.\n"
     ]
    }
   ],
   "source": [
    "pip install datasets"
   ]
  },
  {
   "cell_type": "code",
   "execution_count": 3,
   "id": "b4b42a7a-b04a-4a06-b6f8-738e141bfab6",
   "metadata": {
    "ExecuteTime": {
     "end_time": "2023-12-10T19:41:55.223572Z",
     "start_time": "2023-12-10T19:41:53.757800Z"
    }
   },
   "outputs": [
    {
     "name": "stdout",
     "output_type": "stream",
     "text": [
      "Requirement already satisfied: torch in ./venv/lib/python3.9/site-packages (2.1.1)\r\n",
      "Requirement already satisfied: typing-extensions in ./venv/lib/python3.9/site-packages (from torch) (4.8.0)\r\n",
      "Requirement already satisfied: filelock in ./venv/lib/python3.9/site-packages (from torch) (3.13.1)\r\n",
      "Requirement already satisfied: fsspec in ./venv/lib/python3.9/site-packages (from torch) (2023.10.0)\r\n",
      "Requirement already satisfied: sympy in ./venv/lib/python3.9/site-packages (from torch) (1.12)\r\n",
      "Requirement already satisfied: jinja2 in ./venv/lib/python3.9/site-packages (from torch) (3.1.2)\r\n",
      "Requirement already satisfied: networkx in ./venv/lib/python3.9/site-packages (from torch) (3.2.1)\r\n",
      "Requirement already satisfied: MarkupSafe>=2.0 in ./venv/lib/python3.9/site-packages (from jinja2->torch) (2.1.3)\r\n",
      "Requirement already satisfied: mpmath>=0.19 in ./venv/lib/python3.9/site-packages (from sympy->torch) (1.3.0)\r\n",
      "\u001b[33mWARNING: There was an error checking the latest version of pip.\u001b[0m\u001b[33m\r\n",
      "\u001b[0mNote: you may need to restart the kernel to use updated packages.\n"
     ]
    }
   ],
   "source": [
    "pip install torch"
   ]
  },
  {
   "cell_type": "code",
   "execution_count": 4,
   "id": "bd1a92da-21db-4129-bda4-3903481858e2",
   "metadata": {
    "ExecuteTime": {
     "end_time": "2023-12-10T19:41:56.677281Z",
     "start_time": "2023-12-10T19:41:55.224861Z"
    },
    "scrolled": true
   },
   "outputs": [
    {
     "name": "stdout",
     "output_type": "stream",
     "text": [
      "Requirement already satisfied: scikit-learn in ./venv/lib/python3.9/site-packages (1.3.2)\r\n",
      "Requirement already satisfied: joblib>=1.1.1 in ./venv/lib/python3.9/site-packages (from scikit-learn) (1.3.2)\r\n",
      "Requirement already satisfied: numpy<2.0,>=1.17.3 in ./venv/lib/python3.9/site-packages (from scikit-learn) (1.26.2)\r\n",
      "Requirement already satisfied: threadpoolctl>=2.0.0 in ./venv/lib/python3.9/site-packages (from scikit-learn) (3.2.0)\r\n",
      "Requirement already satisfied: scipy>=1.5.0 in ./venv/lib/python3.9/site-packages (from scikit-learn) (1.11.4)\r\n",
      "\u001b[33mWARNING: There was an error checking the latest version of pip.\u001b[0m\u001b[33m\r\n",
      "\u001b[0mNote: you may need to restart the kernel to use updated packages.\n"
     ]
    }
   ],
   "source": [
    "pip install scikit-learn"
   ]
  },
  {
   "cell_type": "code",
   "execution_count": 5,
   "id": "6137757d-160b-475d-bc8e-52ea043fc288",
   "metadata": {
    "ExecuteTime": {
     "end_time": "2023-12-10T19:41:58.171492Z",
     "start_time": "2023-12-10T19:41:56.679291Z"
    },
    "scrolled": true
   },
   "outputs": [
    {
     "name": "stdout",
     "output_type": "stream",
     "text": [
      "Requirement already satisfied: wandb in ./venv/lib/python3.9/site-packages (0.16.1)\r\n",
      "Requirement already satisfied: protobuf!=4.21.0,<5,>=3.19.0 in ./venv/lib/python3.9/site-packages (from wandb) (4.25.1)\r\n",
      "Requirement already satisfied: PyYAML in ./venv/lib/python3.9/site-packages (from wandb) (6.0.1)\r\n",
      "Requirement already satisfied: typing-extensions in ./venv/lib/python3.9/site-packages (from wandb) (4.8.0)\r\n",
      "Requirement already satisfied: GitPython!=3.1.29,>=1.0.0 in ./venv/lib/python3.9/site-packages (from wandb) (3.1.40)\r\n",
      "Requirement already satisfied: requests<3,>=2.0.0 in ./venv/lib/python3.9/site-packages (from wandb) (2.31.0)\r\n",
      "Requirement already satisfied: Click!=8.0.0,>=7.1 in ./venv/lib/python3.9/site-packages (from wandb) (8.1.7)\r\n",
      "Requirement already satisfied: setuptools in ./venv/lib/python3.9/site-packages (from wandb) (62.3.2)\r\n",
      "Requirement already satisfied: sentry-sdk>=1.0.0 in ./venv/lib/python3.9/site-packages (from wandb) (1.38.0)\r\n",
      "Requirement already satisfied: psutil>=5.0.0 in ./venv/lib/python3.9/site-packages (from wandb) (5.9.6)\r\n",
      "Requirement already satisfied: docker-pycreds>=0.4.0 in ./venv/lib/python3.9/site-packages (from wandb) (0.4.0)\r\n",
      "Requirement already satisfied: appdirs>=1.4.3 in ./venv/lib/python3.9/site-packages (from wandb) (1.4.4)\r\n",
      "Requirement already satisfied: setproctitle in ./venv/lib/python3.9/site-packages (from wandb) (1.3.3)\r\n",
      "Requirement already satisfied: six>=1.4.0 in ./venv/lib/python3.9/site-packages (from docker-pycreds>=0.4.0->wandb) (1.16.0)\r\n",
      "Requirement already satisfied: gitdb<5,>=4.0.1 in ./venv/lib/python3.9/site-packages (from GitPython!=3.1.29,>=1.0.0->wandb) (4.0.11)\r\n",
      "Requirement already satisfied: certifi>=2017.4.17 in ./venv/lib/python3.9/site-packages (from requests<3,>=2.0.0->wandb) (2023.11.17)\r\n",
      "Requirement already satisfied: urllib3<3,>=1.21.1 in ./venv/lib/python3.9/site-packages (from requests<3,>=2.0.0->wandb) (2.1.0)\r\n",
      "Requirement already satisfied: idna<4,>=2.5 in ./venv/lib/python3.9/site-packages (from requests<3,>=2.0.0->wandb) (3.6)\r\n",
      "Requirement already satisfied: charset-normalizer<4,>=2 in ./venv/lib/python3.9/site-packages (from requests<3,>=2.0.0->wandb) (3.3.2)\r\n",
      "Requirement already satisfied: smmap<6,>=3.0.1 in ./venv/lib/python3.9/site-packages (from gitdb<5,>=4.0.1->GitPython!=3.1.29,>=1.0.0->wandb) (5.0.1)\r\n",
      "\u001b[33mWARNING: There was an error checking the latest version of pip.\u001b[0m\u001b[33m\r\n",
      "\u001b[0mNote: you may need to restart the kernel to use updated packages.\n"
     ]
    }
   ],
   "source": [
    "pip install wandb"
   ]
  },
  {
   "cell_type": "code",
   "execution_count": 6,
   "id": "f9d309c2-27ac-40d5-83a5-0823297e2cc6",
   "metadata": {
    "ExecuteTime": {
     "end_time": "2023-12-10T19:41:58.176053Z",
     "start_time": "2023-12-10T19:41:58.169791Z"
    }
   },
   "outputs": [
    {
     "ename": "SyntaxError",
     "evalue": "invalid syntax (2837561437.py, line 1)",
     "output_type": "error",
     "traceback": [
      "\u001b[0;36m  Cell \u001b[0;32mIn[6], line 1\u001b[0;36m\u001b[0m\n\u001b[0;31m    pip install torch torchvision torchaudio\u001b[0m\n\u001b[0m        ^\u001b[0m\n\u001b[0;31mSyntaxError\u001b[0m\u001b[0;31m:\u001b[0m invalid syntax\n"
     ]
    }
   ],
   "source": [
    "pip install torch torchvision torchaudio\n"
   ]
  },
  {
   "cell_type": "code",
   "execution_count": null,
   "id": "0546bb19-de2e-48ef-957f-b570843faabf",
   "metadata": {
    "ExecuteTime": {
     "start_time": "2023-12-10T19:41:58.173656Z"
    },
    "scrolled": true
   },
   "outputs": [],
   "source": [
    "pip install nltk"
   ]
  },
  {
   "cell_type": "code",
   "execution_count": null,
   "id": "66c9be46-3527-4ccf-9ea9-b88c2d989945",
   "metadata": {
    "ExecuteTime": {
     "start_time": "2023-12-10T19:41:58.175334Z"
    },
    "scrolled": true
   },
   "outputs": [],
   "source": [
    "pip install gensim"
   ]
  },
  {
   "cell_type": "code",
   "execution_count": null,
   "id": "ff4f508d-f567-46e9-8f60-f7f8fe055b9b",
   "metadata": {
    "ExecuteTime": {
     "end_time": "2023-12-10T19:41:58.200953Z",
     "start_time": "2023-12-10T19:41:58.176990Z"
    }
   },
   "outputs": [],
   "source": [
    "pip install spacy"
   ]
  },
  {
   "cell_type": "code",
   "execution_count": null,
   "id": "4b633801-29ce-48be-9774-31e3894ef9c8",
   "metadata": {
    "ExecuteTime": {
     "start_time": "2023-12-10T19:41:58.178641Z"
    }
   },
   "outputs": [],
   "source": [
    "pip install matplotlib"
   ]
  },
  {
   "cell_type": "code",
   "execution_count": null,
   "id": "b9b4c45d-f8ec-4a32-a43d-8ad863247386",
   "metadata": {
    "ExecuteTime": {
     "start_time": "2023-12-10T19:41:58.180240Z"
    },
    "scrolled": true
   },
   "outputs": [],
   "source": [
    "pip install wordcloud"
   ]
  },
  {
   "cell_type": "code",
   "execution_count": null,
   "id": "fa4473cf-ab2c-4608-aad8-ee7e5fe7b181",
   "metadata": {
    "ExecuteTime": {
     "start_time": "2023-12-10T19:41:58.181721Z"
    },
    "scrolled": true
   },
   "outputs": [],
   "source": [
    "pip install sentence_transformers"
   ]
  },
  {
   "cell_type": "code",
   "execution_count": null,
   "id": "e92b747e-815d-4969-9a63-dc566768698e",
   "metadata": {
    "ExecuteTime": {
     "start_time": "2023-12-10T19:41:58.183117Z"
    }
   },
   "outputs": [],
   "source": [
    "pip install torchtext"
   ]
  },
  {
   "cell_type": "code",
   "execution_count": 7,
   "id": "b33e94b2-4a32-46bf-867d-8c7846ece244",
   "metadata": {
    "ExecuteTime": {
     "end_time": "2023-12-10T19:42:29.427658Z",
     "start_time": "2023-12-10T19:42:26.588321Z"
    }
   },
   "outputs": [],
   "source": [
    "import pandas as pd\n",
    "import numpy as np\n",
    "from transformers import RobertaTokenizer, RobertaForSequenceClassification,Trainer, TrainingArguments\n",
    "import torch.nn as nn\n",
    "import torch\n",
    "from torch.utils.data import Dataset, DataLoader\n",
    "import numpy as np\n",
    "from sklearn.metrics import accuracy_score, precision_recall_fscore_support\n",
    "from sklearn.model_selection import train_test_split\n",
    "from tqdm import tqdm\n",
    "import wandb\n",
    "import re\n",
    "import os\n",
    "import nltk\n",
    "import datasets\n",
    "from nltk import tokenize\n"
   ]
  },
  {
   "cell_type": "code",
   "execution_count": 8,
   "id": "eb4b54b2-3bf1-4801-95c4-972ad7cc3a63",
   "metadata": {
    "ExecuteTime": {
     "end_time": "2023-12-10T19:42:32.157865Z",
     "start_time": "2023-12-10T19:42:31.391575Z"
    }
   },
   "outputs": [],
   "source": [
    "import pandas as pd\n",
    "import numpy as np\n",
    "import gensim\n",
    "import nltk\n",
    "import spacy\n",
    "import re\n",
    "import torch\n",
    "import torch.nn as nn\n",
    "\n",
    "from matplotlib import pyplot as plt\n",
    "from nltk.corpus import stopwords\n",
    "from nltk import tokenize\n",
    "from wordcloud import WordCloud, STOPWORDS\n",
    "from functools import reduce\n",
    "from sklearn.feature_extraction.text import CountVectorizer, TfidfVectorizer\n",
    "from sentence_transformers import SentenceTransformer\n",
    "from sklearn.model_selection import train_test_split, StratifiedKFold, TimeSeriesSplit\n",
    "from sklearn.pipeline import Pipeline\n",
    "from sklearn.linear_model import LogisticRegression\n",
    "from sklearn.metrics import roc_auc_score\n",
    "from sklearn.preprocessing import StandardScaler\n",
    "from sklearn.multioutput import MultiOutputClassifier\n",
    "from tqdm import tqdm\n",
    "from torchtext.data.utils import get_tokenizer\n",
    "from torchtext.vocab import build_vocab_from_iterator\n",
    "from copy import deepcopy\n",
    "from transformers import (\n",
    "    AutoTokenizer, AutoModelForSequenceClassification, BertTokenizer, BertModel, pipeline, get_linear_schedule_with_warmup\n",
    ")\n",
    "from datasets import Dataset\n",
    "\n",
    "torch.manual_seed(42)\n",
    "torch.backends.cuda.deterministic = True\n",
    "%matplotlib inline"
   ]
  },
  {
   "cell_type": "code",
   "execution_count": null,
   "id": "1ef33993-c385-452a-b9b0-ab75dca4e91e",
   "metadata": {
    "ExecuteTime": {
     "start_time": "2023-12-10T19:41:58.186325Z"
    }
   },
   "outputs": [],
   "source": [
    "!ls"
   ]
  },
  {
   "cell_type": "code",
   "execution_count": 9,
   "id": "3d6f66bb-6d9d-48c0-a004-ab2b97d735de",
   "metadata": {
    "ExecuteTime": {
     "end_time": "2023-12-10T19:42:39.968291Z",
     "start_time": "2023-12-10T19:42:38.597551Z"
    }
   },
   "outputs": [],
   "source": [
    "# df.to_csv(\"/Users/andriy/Desktop/Project_NLP/ukr-news\", index=False)\n",
    "df = pd.read_csv(\"ukr-news.csv\")"
   ]
  },
  {
   "cell_type": "code",
   "execution_count": 10,
   "id": "66859460-a5c2-4474-b42c-0515ed03d04b",
   "metadata": {
    "ExecuteTime": {
     "end_time": "2023-12-10T19:42:41.561559Z",
     "start_time": "2023-12-10T19:42:41.558400Z"
    }
   },
   "outputs": [],
   "source": [
    "categories = ['economic', 'health', 'polit', 'science', 'war']"
   ]
  },
  {
   "cell_type": "code",
   "execution_count": 11,
   "id": "adaef706-d6e7-47e2-9d04-824801833ee4",
   "metadata": {
    "ExecuteTime": {
     "end_time": "2023-12-10T19:42:43.669638Z",
     "start_time": "2023-12-10T19:42:43.666351Z"
    }
   },
   "outputs": [],
   "source": [
    "df = df[df['category'].isin(categories)]"
   ]
  },
  {
   "cell_type": "code",
   "execution_count": 12,
   "id": "311053be-4077-4ffe-90e6-c1f663de953d",
   "metadata": {
    "ExecuteTime": {
     "end_time": "2023-12-10T19:42:44.969478Z",
     "start_time": "2023-12-10T19:42:44.962617Z"
    },
    "scrolled": true
   },
   "outputs": [
    {
     "data": {
      "text/html": [
       "<div>\n",
       "<style scoped>\n",
       "    .dataframe tbody tr th:only-of-type {\n",
       "        vertical-align: middle;\n",
       "    }\n",
       "\n",
       "    .dataframe tbody tr th {\n",
       "        vertical-align: top;\n",
       "    }\n",
       "\n",
       "    .dataframe thead th {\n",
       "        text-align: right;\n",
       "    }\n",
       "</style>\n",
       "<table border=\"1\" class=\"dataframe\">\n",
       "  <thead>\n",
       "    <tr style=\"text-align: right;\">\n",
       "      <th></th>\n",
       "      <th>title</th>\n",
       "      <th>text</th>\n",
       "      <th>category</th>\n",
       "    </tr>\n",
       "  </thead>\n",
       "  <tbody>\n",
       "    <tr>\n",
       "      <th>2264</th>\n",
       "      <td>Епічний кінець: вчені розповіли, як помре Земля</td>\n",
       "      <td>Сонце поглине Землю під час наближення до заве...</td>\n",
       "      <td>science</td>\n",
       "    </tr>\n",
       "    <tr>\n",
       "      <th>2265</th>\n",
       "      <td>Чому вимерли динозаври: штучний інтелект дав в...</td>\n",
       "      <td>Палеонтологи стверджують, що основною причиною...</td>\n",
       "      <td>science</td>\n",
       "    </tr>\n",
       "    <tr>\n",
       "      <th>2266</th>\n",
       "      <td>У Британії розкопали фундамент 1400-річного яз...</td>\n",
       "      <td>У Британії данському графстві Саффолк археолог...</td>\n",
       "      <td>science</td>\n",
       "    </tr>\n",
       "    <tr>\n",
       "      <th>2267</th>\n",
       "      <td>До Землі наблизиться небезпечний астероїд: що ...</td>\n",
       "      <td>У середу, 6 грудня, поблизу Землі пролетить ас...</td>\n",
       "      <td>science</td>\n",
       "    </tr>\n",
       "    <tr>\n",
       "      <th>2268</th>\n",
       "      <td>У ПАР знайшли тваринку, яка вважалася вимерлою...</td>\n",
       "      <td>Вперше за майже 100 років у Південній Африці з...</td>\n",
       "      <td>science</td>\n",
       "    </tr>\n",
       "    <tr>\n",
       "      <th>...</th>\n",
       "      <td>...</td>\n",
       "      <td>...</td>\n",
       "      <td>...</td>\n",
       "    </tr>\n",
       "    <tr>\n",
       "      <th>22265</th>\n",
       "      <td>Україна збиватиме ракетами російські дрони з К...</td>\n",
       "      <td>Українські військові мають намір збивати росій...</td>\n",
       "      <td>war</td>\n",
       "    </tr>\n",
       "    <tr>\n",
       "      <th>22266</th>\n",
       "      <td>Окупанти прийняли \"закон\" про держкордон \"ДНР\"...</td>\n",
       "      <td>Так звана «Народна Рада» самопроголошеної «ДНР...</td>\n",
       "      <td>war</td>\n",
       "    </tr>\n",
       "    <tr>\n",
       "      <th>22267</th>\n",
       "      <td>Україна провела військові маневри з протидесан...</td>\n",
       "      <td>Українські військові на одному з полігонів бой...</td>\n",
       "      <td>war</td>\n",
       "    </tr>\n",
       "    <tr>\n",
       "      <th>22268</th>\n",
       "      <td>Бойовики зазнали масштабних втрат на Донбасі</td>\n",
       "      <td>За тиждень з 22 по 28 листопада 2019 року, втр...</td>\n",
       "      <td>war</td>\n",
       "    </tr>\n",
       "    <tr>\n",
       "      <th>22269</th>\n",
       "      <td>Бойовики на Донеччині обстріляли українських в...</td>\n",
       "      <td>28 листопада бойовики на Донбасі 9 разів поруш...</td>\n",
       "      <td>war</td>\n",
       "    </tr>\n",
       "  </tbody>\n",
       "</table>\n",
       "<p>18521 rows × 3 columns</p>\n",
       "</div>"
      ],
      "text/plain": [
       "                                                   title  \\\n",
       "2264     Епічний кінець: вчені розповіли, як помре Земля   \n",
       "2265   Чому вимерли динозаври: штучний інтелект дав в...   \n",
       "2266   У Британії розкопали фундамент 1400-річного яз...   \n",
       "2267   До Землі наблизиться небезпечний астероїд: що ...   \n",
       "2268   У ПАР знайшли тваринку, яка вважалася вимерлою...   \n",
       "...                                                  ...   \n",
       "22265  Україна збиватиме ракетами російські дрони з К...   \n",
       "22266  Окупанти прийняли \"закон\" про держкордон \"ДНР\"...   \n",
       "22267  Україна провела військові маневри з протидесан...   \n",
       "22268       Бойовики зазнали масштабних втрат на Донбасі   \n",
       "22269  Бойовики на Донеччині обстріляли українських в...   \n",
       "\n",
       "                                                    text category  \n",
       "2264   Сонце поглине Землю під час наближення до заве...  science  \n",
       "2265   Палеонтологи стверджують, що основною причиною...  science  \n",
       "2266   У Британії данському графстві Саффолк археолог...  science  \n",
       "2267   У середу, 6 грудня, поблизу Землі пролетить ас...  science  \n",
       "2268   Вперше за майже 100 років у Південній Африці з...  science  \n",
       "...                                                  ...      ...  \n",
       "22265  Українські військові мають намір збивати росій...      war  \n",
       "22266  Так звана «Народна Рада» самопроголошеної «ДНР...      war  \n",
       "22267  Українські військові на одному з полігонів бой...      war  \n",
       "22268  За тиждень з 22 по 28 листопада 2019 року, втр...      war  \n",
       "22269  28 листопада бойовики на Донбасі 9 разів поруш...      war  \n",
       "\n",
       "[18521 rows x 3 columns]"
      ]
     },
     "execution_count": 12,
     "metadata": {},
     "output_type": "execute_result"
    }
   ],
   "source": [
    "df"
   ]
  },
  {
   "cell_type": "markdown",
   "id": "940894d2-373c-4f11-9fa2-97aedb8483fa",
   "metadata": {},
   "source": [
    "# Modeling"
   ]
  },
  {
   "cell_type": "code",
   "execution_count": 13,
   "id": "fc27edbe-0499-4df2-9d05-9c3764f9d236",
   "metadata": {
    "ExecuteTime": {
     "end_time": "2023-12-10T19:43:02.858531Z",
     "start_time": "2023-12-10T19:43:02.851643Z"
    }
   },
   "outputs": [],
   "source": [
    "X = df['text']\n",
    "y = df['category']\n",
    "\n",
    "# Perform train-test split\n",
    "train_data, test_data, train_labels, test_labels = train_test_split(X, y, test_size=0.2, random_state=42)\n",
    "\n",
    "# Create new DataFrames with both text data and labels\n",
    "train_df = pd.DataFrame({'text': train_data, 'label': train_labels})\n",
    "test_df = pd.DataFrame({'text': test_data, 'label': test_labels})\n"
   ]
  },
  {
   "cell_type": "code",
   "execution_count": 14,
   "id": "581c8411-649a-4c7a-b7fb-22994e2fd3bb",
   "metadata": {
    "ExecuteTime": {
     "end_time": "2023-12-10T19:43:05.687196Z",
     "start_time": "2023-12-10T19:43:05.681919Z"
    }
   },
   "outputs": [
    {
     "data": {
      "text/html": [
       "<div>\n",
       "<style scoped>\n",
       "    .dataframe tbody tr th:only-of-type {\n",
       "        vertical-align: middle;\n",
       "    }\n",
       "\n",
       "    .dataframe tbody tr th {\n",
       "        vertical-align: top;\n",
       "    }\n",
       "\n",
       "    .dataframe thead th {\n",
       "        text-align: right;\n",
       "    }\n",
       "</style>\n",
       "<table border=\"1\" class=\"dataframe\">\n",
       "  <thead>\n",
       "    <tr style=\"text-align: right;\">\n",
       "      <th></th>\n",
       "      <th>text</th>\n",
       "      <th>label</th>\n",
       "    </tr>\n",
       "  </thead>\n",
       "  <tbody>\n",
       "    <tr>\n",
       "      <th>17943</th>\n",
       "      <td>Станом на 5 грудня Київ та ще сім областей \"че...</td>\n",
       "      <td>health</td>\n",
       "    </tr>\n",
       "    <tr>\n",
       "      <th>15273</th>\n",
       "      <td>Китай охопила нова епідемія / фото REUTERS Кит...</td>\n",
       "      <td>health</td>\n",
       "    </tr>\n",
       "    <tr>\n",
       "      <th>4298</th>\n",
       "      <td>У Києві 8 квітня завершується опалювальний сез...</td>\n",
       "      <td>economic</td>\n",
       "    </tr>\n",
       "    <tr>\n",
       "      <th>15970</th>\n",
       "      <td>Більшість схиляється до того, що коронавірус в...</td>\n",
       "      <td>health</td>\n",
       "    </tr>\n",
       "    <tr>\n",
       "      <th>8409</th>\n",
       "      <td>Аграрии начали посевную кампанию, которая обой...</td>\n",
       "      <td>economic</td>\n",
       "    </tr>\n",
       "    <tr>\n",
       "      <th>...</th>\n",
       "      <td>...</td>\n",
       "      <td>...</td>\n",
       "    </tr>\n",
       "    <tr>\n",
       "      <th>15033</th>\n",
       "      <td>Манекен одного з головних персонажів всесвіту ...</td>\n",
       "      <td>science</td>\n",
       "    </tr>\n",
       "    <tr>\n",
       "      <th>15713</th>\n",
       "      <td>В Україні хочуть легалізувати медичний канабіс...</td>\n",
       "      <td>health</td>\n",
       "    </tr>\n",
       "    <tr>\n",
       "      <th>9139</th>\n",
       "      <td>Российские войска и вскормленные Кремлем боеви...</td>\n",
       "      <td>economic</td>\n",
       "    </tr>\n",
       "    <tr>\n",
       "      <th>3124</th>\n",
       "      <td>Команда вчених пропонує нове пояснення деяких ...</td>\n",
       "      <td>health</td>\n",
       "    </tr>\n",
       "    <tr>\n",
       "      <th>19544</th>\n",
       "      <td>Пригожин спростував заяви Кремля про війну РФ ...</td>\n",
       "      <td>war</td>\n",
       "    </tr>\n",
       "  </tbody>\n",
       "</table>\n",
       "<p>14816 rows × 2 columns</p>\n",
       "</div>"
      ],
      "text/plain": [
       "                                                    text     label\n",
       "17943  Станом на 5 грудня Київ та ще сім областей \"че...    health\n",
       "15273  Китай охопила нова епідемія / фото REUTERS Кит...    health\n",
       "4298   У Києві 8 квітня завершується опалювальний сез...  economic\n",
       "15970  Більшість схиляється до того, що коронавірус в...    health\n",
       "8409   Аграрии начали посевную кампанию, которая обой...  economic\n",
       "...                                                  ...       ...\n",
       "15033  Манекен одного з головних персонажів всесвіту ...   science\n",
       "15713  В Україні хочуть легалізувати медичний канабіс...    health\n",
       "9139   Российские войска и вскормленные Кремлем боеви...  economic\n",
       "3124   Команда вчених пропонує нове пояснення деяких ...    health\n",
       "19544  Пригожин спростував заяви Кремля про війну РФ ...       war\n",
       "\n",
       "[14816 rows x 2 columns]"
      ]
     },
     "execution_count": 14,
     "metadata": {},
     "output_type": "execute_result"
    }
   ],
   "source": [
    "train_df"
   ]
  },
  {
   "cell_type": "code",
   "execution_count": 15,
   "id": "6db99758-5187-4679-b308-d55340123a9b",
   "metadata": {
    "ExecuteTime": {
     "end_time": "2023-12-10T19:43:09.877919Z",
     "start_time": "2023-12-10T19:43:09.868227Z"
    }
   },
   "outputs": [],
   "source": [
    "dummy_df = pd.get_dummies(train_df['label'], prefix='is_')\n",
    "dummy_df = dummy_df.astype(int)\n",
    "train_df = pd.concat([train_df, dummy_df], axis=1)\n",
    "\n",
    "dummy_df = pd.get_dummies(test_df['label'], prefix='is_')\n",
    "dummy_df = dummy_df.astype(int)\n",
    "test_df = pd.concat([test_df, dummy_df], axis=1)"
   ]
  },
  {
   "cell_type": "code",
   "execution_count": 16,
   "id": "b4d6c004-3b0f-4091-b070-b5e1063d1a8f",
   "metadata": {
    "ExecuteTime": {
     "end_time": "2023-12-10T19:43:13.174277Z",
     "start_time": "2023-12-10T19:43:13.168870Z"
    }
   },
   "outputs": [
    {
     "data": {
      "text/html": [
       "<div>\n",
       "<style scoped>\n",
       "    .dataframe tbody tr th:only-of-type {\n",
       "        vertical-align: middle;\n",
       "    }\n",
       "\n",
       "    .dataframe tbody tr th {\n",
       "        vertical-align: top;\n",
       "    }\n",
       "\n",
       "    .dataframe thead th {\n",
       "        text-align: right;\n",
       "    }\n",
       "</style>\n",
       "<table border=\"1\" class=\"dataframe\">\n",
       "  <thead>\n",
       "    <tr style=\"text-align: right;\">\n",
       "      <th></th>\n",
       "      <th>text</th>\n",
       "      <th>label</th>\n",
       "      <th>is__economic</th>\n",
       "      <th>is__health</th>\n",
       "      <th>is__polit</th>\n",
       "      <th>is__science</th>\n",
       "      <th>is__war</th>\n",
       "    </tr>\n",
       "  </thead>\n",
       "  <tbody>\n",
       "    <tr>\n",
       "      <th>17943</th>\n",
       "      <td>Станом на 5 грудня Київ та ще сім областей \"че...</td>\n",
       "      <td>health</td>\n",
       "      <td>0</td>\n",
       "      <td>1</td>\n",
       "      <td>0</td>\n",
       "      <td>0</td>\n",
       "      <td>0</td>\n",
       "    </tr>\n",
       "    <tr>\n",
       "      <th>15273</th>\n",
       "      <td>Китай охопила нова епідемія / фото REUTERS Кит...</td>\n",
       "      <td>health</td>\n",
       "      <td>0</td>\n",
       "      <td>1</td>\n",
       "      <td>0</td>\n",
       "      <td>0</td>\n",
       "      <td>0</td>\n",
       "    </tr>\n",
       "    <tr>\n",
       "      <th>4298</th>\n",
       "      <td>У Києві 8 квітня завершується опалювальний сез...</td>\n",
       "      <td>economic</td>\n",
       "      <td>1</td>\n",
       "      <td>0</td>\n",
       "      <td>0</td>\n",
       "      <td>0</td>\n",
       "      <td>0</td>\n",
       "    </tr>\n",
       "    <tr>\n",
       "      <th>15970</th>\n",
       "      <td>Більшість схиляється до того, що коронавірус в...</td>\n",
       "      <td>health</td>\n",
       "      <td>0</td>\n",
       "      <td>1</td>\n",
       "      <td>0</td>\n",
       "      <td>0</td>\n",
       "      <td>0</td>\n",
       "    </tr>\n",
       "    <tr>\n",
       "      <th>8409</th>\n",
       "      <td>Аграрии начали посевную кампанию, которая обой...</td>\n",
       "      <td>economic</td>\n",
       "      <td>1</td>\n",
       "      <td>0</td>\n",
       "      <td>0</td>\n",
       "      <td>0</td>\n",
       "      <td>0</td>\n",
       "    </tr>\n",
       "    <tr>\n",
       "      <th>...</th>\n",
       "      <td>...</td>\n",
       "      <td>...</td>\n",
       "      <td>...</td>\n",
       "      <td>...</td>\n",
       "      <td>...</td>\n",
       "      <td>...</td>\n",
       "      <td>...</td>\n",
       "    </tr>\n",
       "    <tr>\n",
       "      <th>15033</th>\n",
       "      <td>Манекен одного з головних персонажів всесвіту ...</td>\n",
       "      <td>science</td>\n",
       "      <td>0</td>\n",
       "      <td>0</td>\n",
       "      <td>0</td>\n",
       "      <td>1</td>\n",
       "      <td>0</td>\n",
       "    </tr>\n",
       "    <tr>\n",
       "      <th>15713</th>\n",
       "      <td>В Україні хочуть легалізувати медичний канабіс...</td>\n",
       "      <td>health</td>\n",
       "      <td>0</td>\n",
       "      <td>1</td>\n",
       "      <td>0</td>\n",
       "      <td>0</td>\n",
       "      <td>0</td>\n",
       "    </tr>\n",
       "    <tr>\n",
       "      <th>9139</th>\n",
       "      <td>Российские войска и вскормленные Кремлем боеви...</td>\n",
       "      <td>economic</td>\n",
       "      <td>1</td>\n",
       "      <td>0</td>\n",
       "      <td>0</td>\n",
       "      <td>0</td>\n",
       "      <td>0</td>\n",
       "    </tr>\n",
       "    <tr>\n",
       "      <th>3124</th>\n",
       "      <td>Команда вчених пропонує нове пояснення деяких ...</td>\n",
       "      <td>health</td>\n",
       "      <td>0</td>\n",
       "      <td>1</td>\n",
       "      <td>0</td>\n",
       "      <td>0</td>\n",
       "      <td>0</td>\n",
       "    </tr>\n",
       "    <tr>\n",
       "      <th>19544</th>\n",
       "      <td>Пригожин спростував заяви Кремля про війну РФ ...</td>\n",
       "      <td>war</td>\n",
       "      <td>0</td>\n",
       "      <td>0</td>\n",
       "      <td>0</td>\n",
       "      <td>0</td>\n",
       "      <td>1</td>\n",
       "    </tr>\n",
       "  </tbody>\n",
       "</table>\n",
       "<p>14816 rows × 7 columns</p>\n",
       "</div>"
      ],
      "text/plain": [
       "                                                    text     label  \\\n",
       "17943  Станом на 5 грудня Київ та ще сім областей \"че...    health   \n",
       "15273  Китай охопила нова епідемія / фото REUTERS Кит...    health   \n",
       "4298   У Києві 8 квітня завершується опалювальний сез...  economic   \n",
       "15970  Більшість схиляється до того, що коронавірус в...    health   \n",
       "8409   Аграрии начали посевную кампанию, которая обой...  economic   \n",
       "...                                                  ...       ...   \n",
       "15033  Манекен одного з головних персонажів всесвіту ...   science   \n",
       "15713  В Україні хочуть легалізувати медичний канабіс...    health   \n",
       "9139   Российские войска и вскормленные Кремлем боеви...  economic   \n",
       "3124   Команда вчених пропонує нове пояснення деяких ...    health   \n",
       "19544  Пригожин спростував заяви Кремля про війну РФ ...       war   \n",
       "\n",
       "       is__economic  is__health  is__polit  is__science  is__war  \n",
       "17943             0           1          0            0        0  \n",
       "15273             0           1          0            0        0  \n",
       "4298              1           0          0            0        0  \n",
       "15970             0           1          0            0        0  \n",
       "8409              1           0          0            0        0  \n",
       "...             ...         ...        ...          ...      ...  \n",
       "15033             0           0          0            1        0  \n",
       "15713             0           1          0            0        0  \n",
       "9139              1           0          0            0        0  \n",
       "3124              0           1          0            0        0  \n",
       "19544             0           0          0            0        1  \n",
       "\n",
       "[14816 rows x 7 columns]"
      ]
     },
     "execution_count": 16,
     "metadata": {},
     "output_type": "execute_result"
    }
   ],
   "source": [
    "train_df"
   ]
  },
  {
   "cell_type": "code",
   "execution_count": 14,
   "id": "909b6563-3e7b-4023-992e-20ca2cd69eb4",
   "metadata": {
    "ExecuteTime": {
     "end_time": "2023-12-09T14:07:40.952370Z",
     "start_time": "2023-12-09T14:07:40.938980Z"
    }
   },
   "outputs": [
    {
     "data": {
      "text/plain": [
       "Index(['text', 'label', 'is__economic', 'is__health', 'is__polit',\n",
       "       'is__science', 'is__war'],\n",
       "      dtype='object')"
      ]
     },
     "execution_count": 14,
     "metadata": {},
     "output_type": "execute_result"
    }
   ],
   "source": [
    "test_df.columns"
   ]
  },
  {
   "cell_type": "code",
   "execution_count": 17,
   "id": "c6cb8c7f-6b4f-49b5-b1c1-580e86c3683c",
   "metadata": {
    "ExecuteTime": {
     "end_time": "2023-12-10T19:43:22.972608Z",
     "start_time": "2023-12-10T19:43:22.956849Z"
    }
   },
   "outputs": [],
   "source": [
    "TARGET_COLUMNS = ['is__economic', 'is__health', 'is__polit',\n",
    "       'is__science', 'is__war']"
   ]
  },
  {
   "cell_type": "code",
   "execution_count": 18,
   "id": "f12cee7e-6a08-4d2a-885f-6f741c27deb2",
   "metadata": {
    "ExecuteTime": {
     "end_time": "2023-12-10T19:43:26.939980Z",
     "start_time": "2023-12-10T19:43:26.711774Z"
    }
   },
   "outputs": [
    {
     "name": "stderr",
     "output_type": "stream",
     "text": [
      "[nltk_data] Downloading package punkt to /Users/taras/nltk_data...\n",
      "[nltk_data]   Package punkt is already up-to-date!\n"
     ]
    }
   ],
   "source": [
    "nltk.download('punkt')\n",
    "\n",
    "def collapse_dots(input):\n",
    "    # Collapse sequential dots\n",
    "    input = re.sub(\"\\.+\", \".\", input)\n",
    "    # Collapse dots separated by whitespaces\n",
    "    all_collapsed = False\n",
    "    while not all_collapsed:\n",
    "        output = re.sub(r\"\\.(( )*)\\.\", \".\", input)\n",
    "        all_collapsed = input == output\n",
    "        input = output\n",
    "    return output\n",
    "\n",
    "def process_text(input):\n",
    "    if isinstance(input, str):\n",
    "        input = \" \".join(tokenize.sent_tokenize(input))\n",
    "        input = re.sub(r\"http\\S+\", \"\", input)\n",
    "        input = re.sub(r\"\\n+\", \". \", input)\n",
    "        for symb in [\"!\", \",\", \":\", \";\", \"?\"]:\n",
    "            input = re.sub(rf\"\\{symb}\\.\", symb, input)\n",
    "        input = re.sub(r\"#\\S+\", \"\", input)\n",
    "        input = collapse_dots(input)\n",
    "        input = input.strip()\n",
    "        # input = input.lower()\n",
    "    return input"
   ]
  },
  {
   "cell_type": "code",
   "execution_count": 19,
   "id": "a722c175-29e8-4528-9594-1f45174e2089",
   "metadata": {
    "ExecuteTime": {
     "end_time": "2023-12-10T19:43:37.217174Z",
     "start_time": "2023-12-10T19:43:30.690881Z"
    }
   },
   "outputs": [],
   "source": [
    "train_df['clean_text'] = train_df['text'].apply(process_text)\n",
    "test_df['clean_text'] = test_df['text'].apply(process_text)"
   ]
  },
  {
   "cell_type": "code",
   "execution_count": 20,
   "id": "712f780f-2a95-4926-86ce-49a5d91918ec",
   "metadata": {
    "ExecuteTime": {
     "end_time": "2023-12-10T19:43:37.272590Z",
     "start_time": "2023-12-10T19:43:37.248066Z"
    }
   },
   "outputs": [],
   "source": [
    "train_df[\"strat_feature\"] = train_df[TARGET_COLUMNS].apply(\n",
    "    lambda x: reduce(lambda x, y: str(x) + str(y), x), axis=1\n",
    ")\n",
    "small_strat_groups = train_df[\"strat_feature\"].value_counts()[\n",
    "    train_df[\"strat_feature\"].value_counts() < 5\n",
    "].index\n",
    "train_df.loc[train_df[\"strat_feature\"].isin(small_strat_groups), \"strat_feature\"] = \"-1\"\n",
    "skf = StratifiedKFold(n_splits=5, random_state=42, shuffle=True)\n",
    "folds_train_test_ids = [el for el in skf.split(train_df, train_df[\"strat_feature\"])]"
   ]
  },
  {
   "cell_type": "code",
   "execution_count": 21,
   "id": "9aedcf62-6f8e-49f2-8558-dfafdca7ada7",
   "metadata": {
    "ExecuteTime": {
     "end_time": "2023-12-10T19:43:39.440124Z",
     "start_time": "2023-12-10T19:43:39.432255Z"
    }
   },
   "outputs": [],
   "source": [
    "def comp_metric(y_true, y_pred, verbose=True):\n",
    "    assert y_true.shape == y_pred.shape\n",
    "    class_roc_aucs = [roc_auc_score(y_true[:,i], y_pred[:,i]) for i in range(y_pred.shape[1])]\n",
    "    if verbose:\n",
    "        for ra, tgt_col in zip(class_roc_aucs, TARGET_COLUMNS):\n",
    "            print(f\"{tgt_col} Roc Auc: {ra}\")\n",
    "        print(f\"Result Roc Auc: {np.mean(class_roc_aucs)}\")\n",
    "    return class_roc_aucs, np.mean(class_roc_aucs)"
   ]
  },
  {
   "cell_type": "code",
   "execution_count": 26,
   "id": "12c119728fa6fdaf",
   "metadata": {
    "ExecuteTime": {
     "end_time": "2023-12-10T19:50:17.349289Z",
     "start_time": "2023-12-10T19:50:16.110494Z"
    }
   },
   "outputs": [
    {
     "name": "stderr",
     "output_type": "stream",
     "text": [
      "Some weights of BertForSequenceClassification were not initialized from the model checkpoint at mshamrai/bert-base-ukr-eng-rus-uncased and are newly initialized: ['classifier.bias', 'classifier.weight']\n",
      "You should probably TRAIN this model on a down-stream task to be able to use it for predictions and inference.\n"
     ]
    }
   ],
   "source": [
    "from transformers import AutoTokenizer, AutoModel\n",
    "from transformers import BertTokenizer, BertForSequenceClassification\n",
    "\n",
    "tokenizer = BertTokenizer.from_pretrained(\"mshamrai/bert-base-ukr-eng-rus-uncased\")\n",
    "model = BertForSequenceClassification.from_pretrained(\"mshamrai/bert-base-ukr-eng-rus-uncased\")\n"
   ]
  },
  {
   "cell_type": "code",
   "execution_count": 24,
   "id": "763fd43090aca336",
   "metadata": {
    "ExecuteTime": {
     "end_time": "2023-12-10T19:47:25.431600Z",
     "start_time": "2023-12-10T19:47:25.408911Z"
    }
   },
   "outputs": [
    {
     "data": {
      "text/plain": [
       "BertModel(\n",
       "  (embeddings): BertEmbeddings(\n",
       "    (word_embeddings): Embedding(43417, 768, padding_idx=0)\n",
       "    (position_embeddings): Embedding(512, 768)\n",
       "    (token_type_embeddings): Embedding(2, 768)\n",
       "    (LayerNorm): LayerNorm((768,), eps=1e-12, elementwise_affine=True)\n",
       "    (dropout): Dropout(p=0.1, inplace=False)\n",
       "  )\n",
       "  (encoder): BertEncoder(\n",
       "    (layer): ModuleList(\n",
       "      (0-11): 12 x BertLayer(\n",
       "        (attention): BertAttention(\n",
       "          (self): BertSelfAttention(\n",
       "            (query): Linear(in_features=768, out_features=768, bias=True)\n",
       "            (key): Linear(in_features=768, out_features=768, bias=True)\n",
       "            (value): Linear(in_features=768, out_features=768, bias=True)\n",
       "            (dropout): Dropout(p=0.1, inplace=False)\n",
       "          )\n",
       "          (output): BertSelfOutput(\n",
       "            (dense): Linear(in_features=768, out_features=768, bias=True)\n",
       "            (LayerNorm): LayerNorm((768,), eps=1e-12, elementwise_affine=True)\n",
       "            (dropout): Dropout(p=0.1, inplace=False)\n",
       "          )\n",
       "        )\n",
       "        (intermediate): BertIntermediate(\n",
       "          (dense): Linear(in_features=768, out_features=3072, bias=True)\n",
       "          (intermediate_act_fn): GELUActivation()\n",
       "        )\n",
       "        (output): BertOutput(\n",
       "          (dense): Linear(in_features=3072, out_features=768, bias=True)\n",
       "          (LayerNorm): LayerNorm((768,), eps=1e-12, elementwise_affine=True)\n",
       "          (dropout): Dropout(p=0.1, inplace=False)\n",
       "        )\n",
       "      )\n",
       "    )\n",
       "  )\n",
       "  (pooler): BertPooler(\n",
       "    (dense): Linear(in_features=768, out_features=768, bias=True)\n",
       "    (activation): Tanh()\n",
       "  )\n",
       ")"
      ]
     },
     "execution_count": 24,
     "metadata": {},
     "output_type": "execute_result"
    }
   ],
   "source": [
    "model"
   ]
  },
  {
   "cell_type": "code",
   "execution_count": 22,
   "id": "fad24ec7-8429-4e77-83cf-ab5cbf996bc1",
   "metadata": {
    "ExecuteTime": {
     "end_time": "2023-12-10T19:44:42.505751Z",
     "start_time": "2023-12-10T19:44:40.585381Z"
    }
   },
   "outputs": [
    {
     "data": {
      "application/vnd.jupyter.widget-view+json": {
       "model_id": "55baa5f5f602485b8cb78bbbedbd7384",
       "version_major": 2,
       "version_minor": 0
      },
      "text/plain": [
       "tokenizer_config.json:   0%|          | 0.00/49.0 [00:00<?, ?B/s]"
      ]
     },
     "metadata": {},
     "output_type": "display_data"
    },
    {
     "data": {
      "application/vnd.jupyter.widget-view+json": {
       "model_id": "42fff27ab7694dd19c5863d81b80fcfe",
       "version_major": 2,
       "version_minor": 0
      },
      "text/plain": [
       "config.json:   0%|          | 0.00/803 [00:00<?, ?B/s]"
      ]
     },
     "metadata": {},
     "output_type": "display_data"
    },
    {
     "name": "stderr",
     "output_type": "stream",
     "text": [
      "The tokenizer class you load from this checkpoint is not the same type as the class this function is called from. It may result in unexpected tokenization. \n",
      "The tokenizer class you load from this checkpoint is 'BertTokenizer'. \n",
      "The class this function is called from is 'RobertaTokenizer'.\n"
     ]
    },
    {
     "ename": "TypeError",
     "evalue": "expected str, bytes or os.PathLike object, not NoneType",
     "output_type": "error",
     "traceback": [
      "\u001b[0;31m---------------------------------------------------------------------------\u001b[0m",
      "\u001b[0;31mTypeError\u001b[0m                                 Traceback (most recent call last)",
      "Cell \u001b[0;32mIn[22], line 1\u001b[0m\n\u001b[0;32m----> 1\u001b[0m tokenizer \u001b[38;5;241m=\u001b[39m \u001b[43mRobertaTokenizer\u001b[49m\u001b[38;5;241;43m.\u001b[39;49m\u001b[43mfrom_pretrained\u001b[49m\u001b[43m(\u001b[49m\u001b[38;5;124;43m\"\u001b[39;49m\u001b[38;5;124;43mmshamrai/bert-base-ukr-eng-rus-uncased\u001b[39;49m\u001b[38;5;124;43m\"\u001b[39;49m\u001b[43m,\u001b[49m\u001b[43m \u001b[49m\u001b[43mmax_length\u001b[49m\u001b[43m \u001b[49m\u001b[38;5;241;43m=\u001b[39;49m\u001b[43m \u001b[49m\u001b[38;5;241;43m512\u001b[39;49m\u001b[43m)\u001b[49m\n\u001b[1;32m      2\u001b[0m model \u001b[38;5;241m=\u001b[39m RobertaForSequenceClassification\u001b[38;5;241m.\u001b[39mfrom_pretrained(\u001b[38;5;124m\"\u001b[39m\u001b[38;5;124myouscan/ukr-roberta-base\u001b[39m\u001b[38;5;124m\"\u001b[39m,\n\u001b[1;32m      3\u001b[0m     num_labels\u001b[38;5;241m=\u001b[39m\u001b[38;5;28mlen\u001b[39m(TARGET_COLUMNS),\n\u001b[1;32m      4\u001b[0m     ignore_mismatched_sizes\u001b[38;5;241m=\u001b[39m\u001b[38;5;28;01mTrue\u001b[39;00m\n\u001b[1;32m      5\u001b[0m )\n",
      "File \u001b[0;32m~/Downloads/Project_NLP/venv/lib/python3.9/site-packages/transformers/tokenization_utils_base.py:2024\u001b[0m, in \u001b[0;36mPreTrainedTokenizerBase.from_pretrained\u001b[0;34m(cls, pretrained_model_name_or_path, cache_dir, force_download, local_files_only, token, revision, *init_inputs, **kwargs)\u001b[0m\n\u001b[1;32m   2021\u001b[0m     \u001b[38;5;28;01melse\u001b[39;00m:\n\u001b[1;32m   2022\u001b[0m         logger\u001b[38;5;241m.\u001b[39minfo(\u001b[38;5;124mf\u001b[39m\u001b[38;5;124m\"\u001b[39m\u001b[38;5;124mloading file \u001b[39m\u001b[38;5;132;01m{\u001b[39;00mfile_path\u001b[38;5;132;01m}\u001b[39;00m\u001b[38;5;124m from cache at \u001b[39m\u001b[38;5;132;01m{\u001b[39;00mresolved_vocab_files[file_id]\u001b[38;5;132;01m}\u001b[39;00m\u001b[38;5;124m\"\u001b[39m)\n\u001b[0;32m-> 2024\u001b[0m \u001b[38;5;28;01mreturn\u001b[39;00m \u001b[38;5;28;43mcls\u001b[39;49m\u001b[38;5;241;43m.\u001b[39;49m\u001b[43m_from_pretrained\u001b[49m\u001b[43m(\u001b[49m\n\u001b[1;32m   2025\u001b[0m \u001b[43m    \u001b[49m\u001b[43mresolved_vocab_files\u001b[49m\u001b[43m,\u001b[49m\n\u001b[1;32m   2026\u001b[0m \u001b[43m    \u001b[49m\u001b[43mpretrained_model_name_or_path\u001b[49m\u001b[43m,\u001b[49m\n\u001b[1;32m   2027\u001b[0m \u001b[43m    \u001b[49m\u001b[43minit_configuration\u001b[49m\u001b[43m,\u001b[49m\n\u001b[1;32m   2028\u001b[0m \u001b[43m    \u001b[49m\u001b[38;5;241;43m*\u001b[39;49m\u001b[43minit_inputs\u001b[49m\u001b[43m,\u001b[49m\n\u001b[1;32m   2029\u001b[0m \u001b[43m    \u001b[49m\u001b[43mtoken\u001b[49m\u001b[38;5;241;43m=\u001b[39;49m\u001b[43mtoken\u001b[49m\u001b[43m,\u001b[49m\n\u001b[1;32m   2030\u001b[0m \u001b[43m    \u001b[49m\u001b[43mcache_dir\u001b[49m\u001b[38;5;241;43m=\u001b[39;49m\u001b[43mcache_dir\u001b[49m\u001b[43m,\u001b[49m\n\u001b[1;32m   2031\u001b[0m \u001b[43m    \u001b[49m\u001b[43mlocal_files_only\u001b[49m\u001b[38;5;241;43m=\u001b[39;49m\u001b[43mlocal_files_only\u001b[49m\u001b[43m,\u001b[49m\n\u001b[1;32m   2032\u001b[0m \u001b[43m    \u001b[49m\u001b[43m_commit_hash\u001b[49m\u001b[38;5;241;43m=\u001b[39;49m\u001b[43mcommit_hash\u001b[49m\u001b[43m,\u001b[49m\n\u001b[1;32m   2033\u001b[0m \u001b[43m    \u001b[49m\u001b[43m_is_local\u001b[49m\u001b[38;5;241;43m=\u001b[39;49m\u001b[43mis_local\u001b[49m\u001b[43m,\u001b[49m\n\u001b[1;32m   2034\u001b[0m \u001b[43m    \u001b[49m\u001b[38;5;241;43m*\u001b[39;49m\u001b[38;5;241;43m*\u001b[39;49m\u001b[43mkwargs\u001b[49m\u001b[43m,\u001b[49m\n\u001b[1;32m   2035\u001b[0m \u001b[43m\u001b[49m\u001b[43m)\u001b[49m\n",
      "File \u001b[0;32m~/Downloads/Project_NLP/venv/lib/python3.9/site-packages/transformers/tokenization_utils_base.py:2256\u001b[0m, in \u001b[0;36mPreTrainedTokenizerBase._from_pretrained\u001b[0;34m(cls, resolved_vocab_files, pretrained_model_name_or_path, init_configuration, token, cache_dir, local_files_only, _commit_hash, _is_local, *init_inputs, **kwargs)\u001b[0m\n\u001b[1;32m   2254\u001b[0m \u001b[38;5;66;03m# Instantiate the tokenizer.\u001b[39;00m\n\u001b[1;32m   2255\u001b[0m \u001b[38;5;28;01mtry\u001b[39;00m:\n\u001b[0;32m-> 2256\u001b[0m     tokenizer \u001b[38;5;241m=\u001b[39m \u001b[38;5;28;43mcls\u001b[39;49m\u001b[43m(\u001b[49m\u001b[38;5;241;43m*\u001b[39;49m\u001b[43minit_inputs\u001b[49m\u001b[43m,\u001b[49m\u001b[43m \u001b[49m\u001b[38;5;241;43m*\u001b[39;49m\u001b[38;5;241;43m*\u001b[39;49m\u001b[43minit_kwargs\u001b[49m\u001b[43m)\u001b[49m\n\u001b[1;32m   2257\u001b[0m \u001b[38;5;28;01mexcept\u001b[39;00m \u001b[38;5;167;01mOSError\u001b[39;00m:\n\u001b[1;32m   2258\u001b[0m     \u001b[38;5;28;01mraise\u001b[39;00m \u001b[38;5;167;01mOSError\u001b[39;00m(\n\u001b[1;32m   2259\u001b[0m         \u001b[38;5;124m\"\u001b[39m\u001b[38;5;124mUnable to load vocabulary from file. \u001b[39m\u001b[38;5;124m\"\u001b[39m\n\u001b[1;32m   2260\u001b[0m         \u001b[38;5;124m\"\u001b[39m\u001b[38;5;124mPlease check that the provided vocabulary is accessible and not corrupted.\u001b[39m\u001b[38;5;124m\"\u001b[39m\n\u001b[1;32m   2261\u001b[0m     )\n",
      "File \u001b[0;32m~/Downloads/Project_NLP/venv/lib/python3.9/site-packages/transformers/models/roberta/tokenization_roberta.py:221\u001b[0m, in \u001b[0;36mRobertaTokenizer.__init__\u001b[0;34m(self, vocab_file, merges_file, errors, bos_token, eos_token, sep_token, cls_token, unk_token, pad_token, mask_token, add_prefix_space, **kwargs)\u001b[0m\n\u001b[1;32m    213\u001b[0m mask_token \u001b[38;5;241m=\u001b[39m (\n\u001b[1;32m    214\u001b[0m     AddedToken(mask_token, lstrip\u001b[38;5;241m=\u001b[39m\u001b[38;5;28;01mTrue\u001b[39;00m, rstrip\u001b[38;5;241m=\u001b[39m\u001b[38;5;28;01mFalse\u001b[39;00m, normalized\u001b[38;5;241m=\u001b[39m\u001b[38;5;28;01mFalse\u001b[39;00m)\n\u001b[1;32m    215\u001b[0m     \u001b[38;5;28;01mif\u001b[39;00m \u001b[38;5;28misinstance\u001b[39m(mask_token, \u001b[38;5;28mstr\u001b[39m)\n\u001b[1;32m    216\u001b[0m     \u001b[38;5;28;01melse\u001b[39;00m mask_token\n\u001b[1;32m    217\u001b[0m )\n\u001b[1;32m    219\u001b[0m \u001b[38;5;66;03m# these special tokens are not part of the vocab.json, let's add them in the correct order\u001b[39;00m\n\u001b[0;32m--> 221\u001b[0m \u001b[38;5;28;01mwith\u001b[39;00m \u001b[38;5;28;43mopen\u001b[39;49m\u001b[43m(\u001b[49m\u001b[43mvocab_file\u001b[49m\u001b[43m,\u001b[49m\u001b[43m \u001b[49m\u001b[43mencoding\u001b[49m\u001b[38;5;241;43m=\u001b[39;49m\u001b[38;5;124;43m\"\u001b[39;49m\u001b[38;5;124;43mutf-8\u001b[39;49m\u001b[38;5;124;43m\"\u001b[39;49m\u001b[43m)\u001b[49m \u001b[38;5;28;01mas\u001b[39;00m vocab_handle:\n\u001b[1;32m    222\u001b[0m     \u001b[38;5;28mself\u001b[39m\u001b[38;5;241m.\u001b[39mencoder \u001b[38;5;241m=\u001b[39m json\u001b[38;5;241m.\u001b[39mload(vocab_handle)\n\u001b[1;32m    223\u001b[0m \u001b[38;5;28mself\u001b[39m\u001b[38;5;241m.\u001b[39mdecoder \u001b[38;5;241m=\u001b[39m {v: k \u001b[38;5;28;01mfor\u001b[39;00m k, v \u001b[38;5;129;01min\u001b[39;00m \u001b[38;5;28mself\u001b[39m\u001b[38;5;241m.\u001b[39mencoder\u001b[38;5;241m.\u001b[39mitems()}\n",
      "\u001b[0;31mTypeError\u001b[0m: expected str, bytes or os.PathLike object, not NoneType"
     ]
    }
   ],
   "source": [
    "# tokenizer = RobertaTokenizer.from_pretrained(\"mshamrai/bert-base-ukr-eng-rus-uncased\", max_length = 512)\n",
    "# model = RobertaForSequenceClassification.from_pretrained(\"youscan/ukr-roberta-base\",\n",
    "#     num_labels=len(TARGET_COLUMNS),\n",
    "#     ignore_mismatched_sizes=True\n",
    "# )"
   ]
  },
  {
   "cell_type": "code",
   "execution_count": 27,
   "id": "5ee72fa6-ab1a-4ca5-81de-eef305048964",
   "metadata": {
    "ExecuteTime": {
     "end_time": "2023-12-10T19:55:26.324837Z",
     "start_time": "2023-12-10T19:55:26.312290Z"
    },
    "scrolled": true
   },
   "outputs": [],
   "source": [
    "from dataset import TextDataset"
   ]
  },
  {
   "cell_type": "code",
   "execution_count": 28,
   "id": "7e7998a5-5ccc-433b-b91b-3f0a192bc0c8",
   "metadata": {
    "ExecuteTime": {
     "end_time": "2023-12-10T19:56:49.528025Z",
     "start_time": "2023-12-10T19:55:27.414420Z"
    }
   },
   "outputs": [
    {
     "name": "stdout",
     "output_type": "stream",
     "text": [
      "Precomputing Tokenized ids ...\n"
     ]
    },
    {
     "name": "stderr",
     "output_type": "stream",
     "text": [
      "Token indices sequence length is longer than the specified maximum sequence length for this model (2469 > 512). Running this sequence through the model will result in indexing errors\n"
     ]
    },
    {
     "name": "stdout",
     "output_type": "stream",
     "text": [
      "Tokenized ids precomputed!\n"
     ]
    }
   ],
   "source": [
    "train_torch_dataset = TextDataset(\n",
    "    texts=train_df[\"clean_text\"].to_list(),\n",
    "    targets=train_df[TARGET_COLUMNS].values,\n",
    "    dataset_tokenizer=tokenizer,\n",
    "    max_length=512,\n",
    ")"
   ]
  },
  {
   "cell_type": "code",
   "execution_count": 29,
   "id": "96e980e6-f095-4405-ba72-e939928fb7c9",
   "metadata": {
    "ExecuteTime": {
     "end_time": "2023-12-10T19:56:49.536889Z",
     "start_time": "2023-12-10T19:56:49.532252Z"
    }
   },
   "outputs": [],
   "source": [
    "def torch_loop(\n",
    "    dataloader,\n",
    "    inp_model,\n",
    "    inp_optimizer,\n",
    "    inp_criterion,\n",
    "    inp_scheduler=None,\n",
    "    mode=\"train\",\n",
    "    device=\"mps\",\n",
    "):\n",
    "    if mode == \"train\":\n",
    "        inp_model.train()\n",
    "    else:\n",
    "        inp_model.eval()\n",
    "    all_predicted_label = []\n",
    "    all_losses = []\n",
    "    all_targets = []\n",
    "    # We need this context in order to control gradient computation\n",
    "    # mode == True - gradient will NOT be computed, mode == False - gradient will be computed\n",
    "    with torch.inference_mode(mode=(mode != \"train\")):\n",
    "        for text in tqdm(dataloader):\n",
    "            text = {k:v.to(device) for k,v in text.items()}\n",
    "            label = text.pop(\"target\")\n",
    "            if mode == \"train\":\n",
    "                inp_optimizer.zero_grad()\n",
    "            # 1.1 Compute Forward path\n",
    "            predicted_label = inp_model(**text).logits\n",
    "            # 1.2 Compute Cost function (part of Forward path)\n",
    "            loss = inp_criterion(predicted_label, label)\n",
    "            if mode == \"train\":\n",
    "                loss.mean().backward()\n",
    "                inp_optimizer.step()\n",
    "                if inp_scheduler is not None:\n",
    "                    inp_scheduler.step()\n",
    "\n",
    "            # Accumulate stats\n",
    "            # We receive logits and we have to transform them into `probs`. That is why sigmoid is used\n",
    "            all_predicted_label.append(torch.sigmoid(predicted_label.detach()).cpu().numpy())\n",
    "            all_losses.append(loss.detach().cpu().numpy())\n",
    "            all_targets.append(label.detach().cpu().numpy())\n",
    "    all_predicted_label = np.concatenate(all_predicted_label)\n",
    "    all_losses = np.concatenate(all_losses)\n",
    "    all_targets = np.concatenate(all_targets)\n",
    "\n",
    "    return all_predicted_label, all_losses, all_targets\n",
    "\n",
    "def print_losses(input):\n",
    "    for cls_idx, cls_name in enumerate(TARGET_COLUMNS):\n",
    "        print(f\"{cls_name} BCE loss: {input[:,cls_idx].mean()}\")\n",
    "    print(f\"Result BCE loss: {input.mean()}\")\n",
    "\n",
    "def visualise_lr_scheduling(lr_scheduler_from_opt, n_steps, verbose=True, lr=1e-3):\n",
    "    t_opt = torch.optim.SGD([torch.tensor(1)], lr=lr)\n",
    "    t_sched = lr_scheduler_from_opt(t_opt)\n",
    "    lrs = []\n",
    "    for i in range(n_steps):\n",
    "        t_opt.step()\n",
    "        lrs.append(t_sched.get_lr()[0])\n",
    "        t_sched.step()\n",
    "\n",
    "    if verbose:\n",
    "        plt.title(\"Learning Rate Schedule\")\n",
    "        plt.xlabel(\"Iteration\")\n",
    "        plt.ylabel(\"Learning Rate\")\n",
    "        plt.plot(lrs)\n",
    "        plt.show()\n",
    "\n",
    "    return lrs"
   ]
  },
  {
   "cell_type": "code",
   "execution_count": 31,
   "id": "7a6ec0d6-97d1-4141-90e1-8491e83b8104",
   "metadata": {
    "ExecuteTime": {
     "end_time": "2023-12-10T19:57:13.740035Z",
     "start_time": "2023-12-10T19:57:12.635257Z"
    },
    "scrolled": true
   },
   "outputs": [
    {
     "name": "stderr",
     "output_type": "stream",
     "text": [
      "Some weights of BertForSequenceClassification were not initialized from the model checkpoint at mshamrai/bert-base-ukr-eng-rus-uncased and are newly initialized: ['classifier.bias', 'classifier.weight']\n",
      "You should probably TRAIN this model on a down-stream task to be able to use it for predictions and inference.\n"
     ]
    }
   ],
   "source": [
    "nn_model = AutoModelForSequenceClassification.from_pretrained(\n",
    "    \"mshamrai/bert-base-ukr-eng-rus-uncased\",\n",
    "    num_labels=len(TARGET_COLUMNS),\n",
    "    ignore_mismatched_sizes=True\n",
    ").to(\"mps\")\n",
    "criterion = torch.nn.BCEWithLogitsLoss(reduction=\"none\")\n",
    "optimizer = torch.optim.AdamW([\n",
    "    {'params': nn_model.bert.parameters(), \"lr\": 1e-5},\n",
    "    {'params': nn_model.classifier.parameters(), \"lr\": 1e-3},\n",
    "], weight_decay=0)"
   ]
  },
  {
   "cell_type": "code",
   "execution_count": 32,
   "id": "fbd66a77-5639-4ee4-ac7a-b6a922971795",
   "metadata": {
    "ExecuteTime": {
     "end_time": "2023-12-10T19:58:40.798720Z",
     "start_time": "2023-12-10T19:57:18.827555Z"
    }
   },
   "outputs": [
    {
     "name": "stdout",
     "output_type": "stream",
     "text": [
      "Precomputing Tokenized ids ...\n",
      "Tokenized ids precomputed!\n",
      "Precomputing Tokenized ids ...\n",
      "Tokenized ids precomputed!\n"
     ]
    }
   ],
   "source": [
    "train_torch_dataset = TextDataset(\n",
    "    texts=train_df.iloc[folds_train_test_ids[0][0]][\"clean_text\"].to_list(),\n",
    "    targets=train_df.iloc[folds_train_test_ids[0][0]][TARGET_COLUMNS].values,\n",
    "    dataset_tokenizer=tokenizer,\n",
    "    max_length=512,\n",
    ")\n",
    "train_torch_dataloader = torch.utils.data.DataLoader(\n",
    "    train_torch_dataset,\n",
    "    batch_size=32,\n",
    "    shuffle=True,\n",
    "    drop_last=True,\n",
    "    num_workers=8,\n",
    "    pin_memory=True\n",
    ")\n",
    "\n",
    "valid_torch_dataset = TextDataset(\n",
    "    texts=train_df.iloc[folds_train_test_ids[0][1]][\"clean_text\"].to_list(),\n",
    "    targets=train_df.iloc[folds_train_test_ids[0][1]][TARGET_COLUMNS].values,\n",
    "    dataset_tokenizer=tokenizer,\n",
    "    max_length=512,\n",
    "    trim_policy=\"first\"\n",
    ")\n",
    "valid_torch_dataloader = torch.utils.data.DataLoader(\n",
    "    valid_torch_dataset,\n",
    "    batch_size=32,\n",
    "    shuffle=False,\n",
    "    drop_last=False,\n",
    "    num_workers=8,\n",
    "    pin_memory=True\n",
    ")"
   ]
  },
  {
   "cell_type": "code",
   "execution_count": 33,
   "id": "905b5d7a-b8dc-422f-a936-40730851c9a5",
   "metadata": {
    "ExecuteTime": {
     "end_time": "2023-12-10T19:58:40.981648Z",
     "start_time": "2023-12-10T19:58:40.800029Z"
    }
   },
   "outputs": [
    {
     "data": {
      "image/png": "[encoded data removed]",
      "text/plain": [
       "<Figure size 640x480 with 1 Axes>"
      ]
     },
     "metadata": {},
     "output_type": "display_data"
    }
   ],
   "source": [
    "n_epochs = 10\n",
    "# Here is an example of scheduler, which udates after each iteration (batch) , NOT after each epoch\n",
    "# Also it has 2\n",
    "visualise_lr_scheduling(\n",
    "    lr_scheduler_from_opt=lambda opt: get_linear_schedule_with_warmup(\n",
    "        optimizer=opt,\n",
    "        num_warmup_steps=int(0.05*len(train_torch_dataloader)*n_epochs),\n",
    "        num_training_steps=len(train_torch_dataloader)*n_epochs\n",
    "    ),\n",
    "    n_steps=len(train_torch_dataloader)*n_epochs,\n",
    "    lr=2e-5\n",
    ")\n",
    "scheduler = get_linear_schedule_with_warmup(\n",
    "    optimizer=optimizer,\n",
    "    num_warmup_steps=int(0.05*len(train_torch_dataloader)*n_epochs),\n",
    "    num_training_steps=len(train_torch_dataloader)*n_epochs\n",
    ")"
   ]
  },
  {
   "cell_type": "code",
   "execution_count": 34,
   "id": "1fa0bbb0-40a8-4e57-87f1-4401bdfa010b",
   "metadata": {
    "ExecuteTime": {
     "end_time": "2023-12-10T22:12:03.936122Z",
     "start_time": "2023-12-10T19:58:40.985897Z"
    },
    "scrolled": true
   },
   "outputs": [
    {
     "name": "stdout",
     "output_type": "stream",
     "text": [
      "Starting Epoch 1\n",
      "Train phase\n"
     ]
    },
    {
     "name": "stderr",
     "output_type": "stream",
     "text": [
      "100%|██████████| 370/370 [14:05<00:00,  2.29s/it]\n"
     ]
    },
    {
     "name": "stdout",
     "output_type": "stream",
     "text": [
      "Train metrics\n",
      "0.14344773\n",
      "Train BCE losses\n",
      "is__economic BCE loss: 0.35097602009773254\n",
      "is__health BCE loss: 0.478655606508255\n",
      "is__polit BCE loss: 0.4679488241672516\n",
      "is__science BCE loss: 0.4421941041946411\n",
      "is__war BCE loss: 0.48948025703430176\n",
      "Result BCE loss: 0.44585099816322327\n",
      "Valid phase\n"
     ]
    },
    {
     "name": "stderr",
     "output_type": "stream",
     "text": [
      "  0%|          | 0/93 [00:00<?, ?it/s]Python(14609) MallocStackLogging: can't turn off malloc stack logging because it was not enabled.\n",
      "Python(14610) MallocStackLogging: can't turn off malloc stack logging because it was not enabled.\n",
      "Python(14611) MallocStackLogging: can't turn off malloc stack logging because it was not enabled.\n",
      "Python(14612) MallocStackLogging: can't turn off malloc stack logging because it was not enabled.\n",
      "Python(14614) MallocStackLogging: can't turn off malloc stack logging because it was not enabled.\n",
      "Python(14615) MallocStackLogging: can't turn off malloc stack logging because it was not enabled.\n",
      "Python(14616) MallocStackLogging: can't turn off malloc stack logging because it was not enabled.\n",
      "Python(14617) MallocStackLogging: can't turn off malloc stack logging because it was not enabled.\n",
      "100%|██████████| 93/93 [01:42<00:00,  1.10s/it]\n"
     ]
    },
    {
     "name": "stdout",
     "output_type": "stream",
     "text": [
      "Valid metrics\n",
      "0.100833036\n",
      "Valid BCE losses\n",
      "is__economic BCE loss: 0.1800156533718109\n",
      "is__health BCE loss: 0.3374682068824768\n",
      "is__polit BCE loss: 0.3371124863624573\n",
      "is__science BCE loss: 0.36470726132392883\n",
      "is__war BCE loss: 0.3754587173461914\n",
      "Result BCE loss: 0.3189524710178375\n",
      "Starting Epoch 2\n",
      "Train phase\n"
     ]
    },
    {
     "name": "stderr",
     "output_type": "stream",
     "text": [
      "  0%|          | 0/370 [00:00<?, ?it/s]Python(14665) MallocStackLogging: can't turn off malloc stack logging because it was not enabled.\n",
      "Python(14666) MallocStackLogging: can't turn off malloc stack logging because it was not enabled.\n",
      "Python(14667) MallocStackLogging: can't turn off malloc stack logging because it was not enabled.\n",
      "Python(14669) MallocStackLogging: can't turn off malloc stack logging because it was not enabled.\n",
      "Python(14670) MallocStackLogging: can't turn off malloc stack logging because it was not enabled.\n",
      "Python(14671) MallocStackLogging: can't turn off malloc stack logging because it was not enabled.\n",
      "Python(14674) MallocStackLogging: can't turn off malloc stack logging because it was not enabled.\n",
      "Python(14676) MallocStackLogging: can't turn off malloc stack logging because it was not enabled.\n",
      "100%|██████████| 370/370 [14:24<00:00,  2.34s/it]\n"
     ]
    },
    {
     "name": "stdout",
     "output_type": "stream",
     "text": [
      "Train metrics\n",
      "0.078707136\n",
      "Train BCE losses\n",
      "is__economic BCE loss: 0.1575005203485489\n",
      "is__health BCE loss: 0.2656213343143463\n",
      "is__polit BCE loss: 0.2604145407676697\n",
      "is__science BCE loss: 0.2796124517917633\n",
      "is__war BCE loss: 0.3224899470806122\n",
      "Result BCE loss: 0.2571277618408203\n",
      "Valid phase\n"
     ]
    },
    {
     "name": "stderr",
     "output_type": "stream",
     "text": [
      "  0%|          | 0/93 [00:00<?, ?it/s]Python(15040) MallocStackLogging: can't turn off malloc stack logging because it was not enabled.\n",
      "Python(15041) MallocStackLogging: can't turn off malloc stack logging because it was not enabled.\n",
      "Python(15042) MallocStackLogging: can't turn off malloc stack logging because it was not enabled.\n",
      "Python(15049) MallocStackLogging: can't turn off malloc stack logging because it was not enabled.\n",
      "Python(15053) MallocStackLogging: can't turn off malloc stack logging because it was not enabled.\n",
      "Python(15055) MallocStackLogging: can't turn off malloc stack logging because it was not enabled.\n",
      "Python(15056) MallocStackLogging: can't turn off malloc stack logging because it was not enabled.\n",
      "Python(15058) MallocStackLogging: can't turn off malloc stack logging because it was not enabled.\n",
      "100%|██████████| 93/93 [01:45<00:00,  1.14s/it]\n"
     ]
    },
    {
     "name": "stdout",
     "output_type": "stream",
     "text": [
      "Valid metrics\n",
      "0.056158137\n",
      "Valid BCE losses\n",
      "is__economic BCE loss: 0.10223396867513657\n",
      "is__health BCE loss: 0.22378422319889069\n",
      "is__polit BCE loss: 0.18646667897701263\n",
      "is__science BCE loss: 0.22897763550281525\n",
      "is__war BCE loss: 0.21686561405658722\n",
      "Result BCE loss: 0.1916656196117401\n",
      "Starting Epoch 3\n",
      "Train phase\n"
     ]
    },
    {
     "name": "stderr",
     "output_type": "stream",
     "text": [
      "  0%|          | 0/370 [00:00<?, ?it/s]Python(15097) MallocStackLogging: can't turn off malloc stack logging because it was not enabled.\n",
      "Python(15099) MallocStackLogging: can't turn off malloc stack logging because it was not enabled.\n",
      "Python(15100) MallocStackLogging: can't turn off malloc stack logging because it was not enabled.\n",
      "Python(15101) MallocStackLogging: can't turn off malloc stack logging because it was not enabled.\n",
      "Python(15103) MallocStackLogging: can't turn off malloc stack logging because it was not enabled.\n",
      "Python(15104) MallocStackLogging: can't turn off malloc stack logging because it was not enabled.\n",
      "Python(15105) MallocStackLogging: can't turn off malloc stack logging because it was not enabled.\n",
      "Python(15106) MallocStackLogging: can't turn off malloc stack logging because it was not enabled.\n",
      "100%|██████████| 370/370 [14:39<00:00,  2.38s/it]\n"
     ]
    },
    {
     "name": "stdout",
     "output_type": "stream",
     "text": [
      "Train metrics\n",
      "0.050393928\n",
      "Train BCE losses\n",
      "is__economic BCE loss: 0.10831188410520554\n",
      "is__health BCE loss: 0.19109350442886353\n",
      "is__polit BCE loss: 0.15323098003864288\n",
      "is__science BCE loss: 0.19755958020687103\n",
      "is__war BCE loss: 0.21393412351608276\n",
      "Result BCE loss: 0.17282602190971375\n",
      "Valid phase\n"
     ]
    },
    {
     "name": "stderr",
     "output_type": "stream",
     "text": [
      "  0%|          | 0/93 [00:00<?, ?it/s]Python(15457) MallocStackLogging: can't turn off malloc stack logging because it was not enabled.\n",
      "Python(15458) MallocStackLogging: can't turn off malloc stack logging because it was not enabled.\n",
      "Python(15460) MallocStackLogging: can't turn off malloc stack logging because it was not enabled.\n",
      "Python(15461) MallocStackLogging: can't turn off malloc stack logging because it was not enabled.\n",
      "Python(15462) MallocStackLogging: can't turn off malloc stack logging because it was not enabled.\n",
      "Python(15463) MallocStackLogging: can't turn off malloc stack logging because it was not enabled.\n",
      "Python(15464) MallocStackLogging: can't turn off malloc stack logging because it was not enabled.\n",
      "Python(15466) MallocStackLogging: can't turn off malloc stack logging because it was not enabled.\n",
      "100%|██████████| 93/93 [01:44<00:00,  1.12s/it]\n"
     ]
    },
    {
     "name": "stdout",
     "output_type": "stream",
     "text": [
      "Valid metrics\n",
      "0.047966428\n",
      "Valid BCE losses\n",
      "is__economic BCE loss: 0.09677951782941818\n",
      "is__health BCE loss: 0.19513224065303802\n",
      "is__polit BCE loss: 0.12781809270381927\n",
      "is__science BCE loss: 0.2111605554819107\n",
      "is__war BCE loss: 0.1945277750492096\n",
      "Result BCE loss: 0.165083646774292\n",
      "Starting Epoch 4\n",
      "Train phase\n"
     ]
    },
    {
     "name": "stderr",
     "output_type": "stream",
     "text": [
      "  0%|          | 0/370 [00:00<?, ?it/s]Python(15500) MallocStackLogging: can't turn off malloc stack logging because it was not enabled.\n",
      "Python(15501) MallocStackLogging: can't turn off malloc stack logging because it was not enabled.\n",
      "Python(15502) MallocStackLogging: can't turn off malloc stack logging because it was not enabled.\n",
      "Python(15503) MallocStackLogging: can't turn off malloc stack logging because it was not enabled.\n",
      "Python(15505) MallocStackLogging: can't turn off malloc stack logging because it was not enabled.\n",
      "Python(15506) MallocStackLogging: can't turn off malloc stack logging because it was not enabled.\n",
      "Python(15507) MallocStackLogging: can't turn off malloc stack logging because it was not enabled.\n",
      "Python(15508) MallocStackLogging: can't turn off malloc stack logging because it was not enabled.\n",
      "100%|██████████| 370/370 [14:33<00:00,  2.36s/it]\n"
     ]
    },
    {
     "name": "stdout",
     "output_type": "stream",
     "text": [
      "Train metrics\n",
      "0.03853585\n",
      "Train BCE losses\n",
      "is__economic BCE loss: 0.08438652008771896\n",
      "is__health BCE loss: 0.16203975677490234\n",
      "is__polit BCE loss: 0.10257339477539062\n",
      "is__science BCE loss: 0.16137395799160004\n",
      "is__war BCE loss: 0.16095808148384094\n",
      "Result BCE loss: 0.13426634669303894\n",
      "Valid phase\n"
     ]
    },
    {
     "name": "stderr",
     "output_type": "stream",
     "text": [
      "  0%|          | 0/93 [00:00<?, ?it/s]Python(15884) MallocStackLogging: can't turn off malloc stack logging because it was not enabled.\n",
      "Python(15886) MallocStackLogging: can't turn off malloc stack logging because it was not enabled.\n",
      "Python(15887) MallocStackLogging: can't turn off malloc stack logging because it was not enabled.\n",
      "Python(15889) MallocStackLogging: can't turn off malloc stack logging because it was not enabled.\n",
      "Python(15890) MallocStackLogging: can't turn off malloc stack logging because it was not enabled.\n",
      "Python(15891) MallocStackLogging: can't turn off malloc stack logging because it was not enabled.\n",
      "Python(15892) MallocStackLogging: can't turn off malloc stack logging because it was not enabled.\n",
      "Python(15894) MallocStackLogging: can't turn off malloc stack logging because it was not enabled.\n",
      "100%|██████████| 93/93 [01:41<00:00,  1.09s/it]\n"
     ]
    },
    {
     "name": "stdout",
     "output_type": "stream",
     "text": [
      "Valid metrics\n",
      "0.042426776\n",
      "Valid BCE losses\n",
      "is__economic BCE loss: 0.07352019101381302\n",
      "is__health BCE loss: 0.16605384647846222\n",
      "is__polit BCE loss: 0.12467306852340698\n",
      "is__science BCE loss: 0.1826956570148468\n",
      "is__war BCE loss: 0.18954026699066162\n",
      "Result BCE loss: 0.14729660749435425\n",
      "Starting Epoch 5\n",
      "Train phase\n"
     ]
    },
    {
     "name": "stderr",
     "output_type": "stream",
     "text": [
      "  0%|          | 0/370 [00:00<?, ?it/s]Python(15921) MallocStackLogging: can't turn off malloc stack logging because it was not enabled.\n",
      "Python(15922) MallocStackLogging: can't turn off malloc stack logging because it was not enabled.\n",
      "Python(15923) MallocStackLogging: can't turn off malloc stack logging because it was not enabled.\n",
      "Python(15925) MallocStackLogging: can't turn off malloc stack logging because it was not enabled.\n",
      "Python(15926) MallocStackLogging: can't turn off malloc stack logging because it was not enabled.\n",
      "Python(15927) MallocStackLogging: can't turn off malloc stack logging because it was not enabled.\n",
      "Python(15929) MallocStackLogging: can't turn off malloc stack logging because it was not enabled.\n",
      "Python(15930) MallocStackLogging: can't turn off malloc stack logging because it was not enabled.\n",
      "100%|██████████| 370/370 [13:38<00:00,  2.21s/it]\n"
     ]
    },
    {
     "name": "stdout",
     "output_type": "stream",
     "text": [
      "Train metrics\n",
      "0.030889887\n",
      "Train BCE losses\n",
      "is__economic BCE loss: 0.06986569613218307\n",
      "is__health BCE loss: 0.1357647180557251\n",
      "is__polit BCE loss: 0.07928012311458588\n",
      "is__science BCE loss: 0.13342396914958954\n",
      "is__war BCE loss: 0.12818458676338196\n",
      "Result BCE loss: 0.10930381715297699\n",
      "Valid phase\n"
     ]
    },
    {
     "name": "stderr",
     "output_type": "stream",
     "text": [
      "  0%|          | 0/93 [00:00<?, ?it/s]Python(16189) MallocStackLogging: can't turn off malloc stack logging because it was not enabled.\n",
      "Python(16191) MallocStackLogging: can't turn off malloc stack logging because it was not enabled.\n",
      "Python(16192) MallocStackLogging: can't turn off malloc stack logging because it was not enabled.\n",
      "Python(16193) MallocStackLogging: can't turn off malloc stack logging because it was not enabled.\n",
      "Python(16194) MallocStackLogging: can't turn off malloc stack logging because it was not enabled.\n",
      "Python(16195) MallocStackLogging: can't turn off malloc stack logging because it was not enabled.\n",
      "Python(16197) MallocStackLogging: can't turn off malloc stack logging because it was not enabled.\n",
      "Python(16198) MallocStackLogging: can't turn off malloc stack logging because it was not enabled.\n",
      "100%|██████████| 93/93 [01:40<00:00,  1.08s/it]\n"
     ]
    },
    {
     "name": "stdout",
     "output_type": "stream",
     "text": [
      "Valid metrics\n",
      "0.040941723\n",
      "Valid BCE losses\n",
      "is__economic BCE loss: 0.08128567039966583\n",
      "is__health BCE loss: 0.1756616085767746\n",
      "is__polit BCE loss: 0.09899293631315231\n",
      "is__science BCE loss: 0.20132657885551453\n",
      "is__war BCE loss: 0.17674537003040314\n",
      "Result BCE loss: 0.1468024104833603\n",
      "Starting Epoch 6\n",
      "Train phase\n"
     ]
    },
    {
     "name": "stderr",
     "output_type": "stream",
     "text": [
      "  0%|          | 0/370 [00:00<?, ?it/s]Python(16229) MallocStackLogging: can't turn off malloc stack logging because it was not enabled.\n",
      "Python(16230) MallocStackLogging: can't turn off malloc stack logging because it was not enabled.\n",
      "Python(16231) MallocStackLogging: can't turn off malloc stack logging because it was not enabled.\n",
      "Python(16233) MallocStackLogging: can't turn off malloc stack logging because it was not enabled.\n",
      "Python(16234) MallocStackLogging: can't turn off malloc stack logging because it was not enabled.\n",
      "Python(16235) MallocStackLogging: can't turn off malloc stack logging because it was not enabled.\n",
      "Python(16237) MallocStackLogging: can't turn off malloc stack logging because it was not enabled.\n",
      "Python(16238) MallocStackLogging: can't turn off malloc stack logging because it was not enabled.\n",
      "100%|██████████| 370/370 [14:10<00:00,  2.30s/it]\n"
     ]
    },
    {
     "name": "stdout",
     "output_type": "stream",
     "text": [
      "Train metrics\n",
      "0.026778629\n",
      "Train BCE losses\n",
      "is__economic BCE loss: 0.06109902635216713\n",
      "is__health BCE loss: 0.12667012214660645\n",
      "is__polit BCE loss: 0.06276320666074753\n",
      "is__science BCE loss: 0.11988521367311478\n",
      "is__war BCE loss: 0.10848009586334229\n",
      "Result BCE loss: 0.09577952325344086\n",
      "Valid phase\n"
     ]
    },
    {
     "name": "stderr",
     "output_type": "stream",
     "text": [
      "  0%|          | 0/93 [00:00<?, ?it/s]Python(16595) MallocStackLogging: can't turn off malloc stack logging because it was not enabled.\n",
      "Python(16596) MallocStackLogging: can't turn off malloc stack logging because it was not enabled.\n",
      "Python(16599) MallocStackLogging: can't turn off malloc stack logging because it was not enabled.\n",
      "Python(16602) MallocStackLogging: can't turn off malloc stack logging because it was not enabled.\n",
      "Python(16603) MallocStackLogging: can't turn off malloc stack logging because it was not enabled.\n",
      "Python(16605) MallocStackLogging: can't turn off malloc stack logging because it was not enabled.\n",
      "Python(16606) MallocStackLogging: can't turn off malloc stack logging because it was not enabled.\n",
      "Python(16607) MallocStackLogging: can't turn off malloc stack logging because it was not enabled.\n",
      "100%|██████████| 93/93 [01:42<00:00,  1.10s/it]\n"
     ]
    },
    {
     "name": "stdout",
     "output_type": "stream",
     "text": [
      "Valid metrics\n",
      "0.037477303\n",
      "Valid BCE losses\n",
      "is__economic BCE loss: 0.07261140644550323\n",
      "is__health BCE loss: 0.16447289288043976\n",
      "is__polit BCE loss: 0.09861218929290771\n",
      "is__science BCE loss: 0.17917051911354065\n",
      "is__war BCE loss: 0.16313159465789795\n",
      "Result BCE loss: 0.13559973239898682\n",
      "Starting Epoch 7\n",
      "Train phase\n"
     ]
    },
    {
     "name": "stderr",
     "output_type": "stream",
     "text": [
      "  0%|          | 0/370 [00:00<?, ?it/s]Python(16636) MallocStackLogging: can't turn off malloc stack logging because it was not enabled.\n",
      "Python(16637) MallocStackLogging: can't turn off malloc stack logging because it was not enabled.\n",
      "Python(16638) MallocStackLogging: can't turn off malloc stack logging because it was not enabled.\n",
      "Python(16641) MallocStackLogging: can't turn off malloc stack logging because it was not enabled.\n",
      "Python(16643) MallocStackLogging: can't turn off malloc stack logging because it was not enabled.\n",
      "Python(16644) MallocStackLogging: can't turn off malloc stack logging because it was not enabled.\n",
      "Python(16645) MallocStackLogging: can't turn off malloc stack logging because it was not enabled.\n",
      "Python(16647) MallocStackLogging: can't turn off malloc stack logging because it was not enabled.\n",
      "100%|██████████| 370/370 [13:37<00:00,  2.21s/it]\n"
     ]
    },
    {
     "name": "stdout",
     "output_type": "stream",
     "text": [
      "Train metrics\n",
      "0.022082401\n",
      "Train BCE losses\n",
      "is__economic BCE loss: 0.049281902611255646\n",
      "is__health BCE loss: 0.10960057377815247\n",
      "is__polit BCE loss: 0.047194961458444595\n",
      "is__science BCE loss: 0.1053316667675972\n",
      "is__war BCE loss: 0.08799330145120621\n",
      "Result BCE loss: 0.0798804759979248\n",
      "Valid phase\n"
     ]
    },
    {
     "name": "stderr",
     "output_type": "stream",
     "text": [
      "  0%|          | 0/93 [00:00<?, ?it/s]Python(17020) MallocStackLogging: can't turn off malloc stack logging because it was not enabled.\n",
      "Python(17022) MallocStackLogging: can't turn off malloc stack logging because it was not enabled.\n",
      "Python(17025) MallocStackLogging: can't turn off malloc stack logging because it was not enabled.\n",
      "Python(17027) MallocStackLogging: can't turn off malloc stack logging because it was not enabled.\n",
      "Python(17029) MallocStackLogging: can't turn off malloc stack logging because it was not enabled.\n",
      "Python(17030) MallocStackLogging: can't turn off malloc stack logging because it was not enabled.\n",
      "Python(17031) MallocStackLogging: can't turn off malloc stack logging because it was not enabled.\n",
      "Python(17032) MallocStackLogging: can't turn off malloc stack logging because it was not enabled.\n",
      "100%|██████████| 93/93 [01:41<00:00,  1.09s/it]\n"
     ]
    },
    {
     "name": "stdout",
     "output_type": "stream",
     "text": [
      "Valid metrics\n",
      "0.038887825\n",
      "Valid BCE losses\n",
      "is__economic BCE loss: 0.08549489080905914\n",
      "is__health BCE loss: 0.1698664277791977\n",
      "is__polit BCE loss: 0.08871777355670929\n",
      "is__science BCE loss: 0.17333737015724182\n",
      "is__war BCE loss: 0.18167917430400848\n",
      "Result BCE loss: 0.13981914520263672\n",
      "Starting Epoch 8\n",
      "Train phase\n"
     ]
    },
    {
     "name": "stderr",
     "output_type": "stream",
     "text": [
      "  0%|          | 0/370 [00:00<?, ?it/s]Python(17066) MallocStackLogging: can't turn off malloc stack logging because it was not enabled.\n",
      "Python(17067) MallocStackLogging: can't turn off malloc stack logging because it was not enabled.\n",
      "Python(17068) MallocStackLogging: can't turn off malloc stack logging because it was not enabled.\n",
      "Python(17070) MallocStackLogging: can't turn off malloc stack logging because it was not enabled.\n",
      "Python(17071) MallocStackLogging: can't turn off malloc stack logging because it was not enabled.\n",
      "Python(17072) MallocStackLogging: can't turn off malloc stack logging because it was not enabled.\n",
      "Python(17074) MallocStackLogging: can't turn off malloc stack logging because it was not enabled.\n",
      "Python(17075) MallocStackLogging: can't turn off malloc stack logging because it was not enabled.\n",
      "100%|██████████| 370/370 [14:19<00:00,  2.32s/it]\n"
     ]
    },
    {
     "name": "stdout",
     "output_type": "stream",
     "text": [
      "Train metrics\n",
      "0.019512009\n",
      "Train BCE losses\n",
      "is__economic BCE loss: 0.04442219063639641\n",
      "is__health BCE loss: 0.10089386254549026\n",
      "is__polit BCE loss: 0.037049729377031326\n",
      "is__science BCE loss: 0.09668253362178802\n",
      "is__war BCE loss: 0.07182898372411728\n",
      "Result BCE loss: 0.07017546147108078\n",
      "Valid phase\n"
     ]
    },
    {
     "name": "stderr",
     "output_type": "stream",
     "text": [
      "  0%|          | 0/93 [00:00<?, ?it/s]Python(17391) MallocStackLogging: can't turn off malloc stack logging because it was not enabled.\n",
      "Python(17392) MallocStackLogging: can't turn off malloc stack logging because it was not enabled.\n",
      "Python(17394) MallocStackLogging: can't turn off malloc stack logging because it was not enabled.\n",
      "Python(17395) MallocStackLogging: can't turn off malloc stack logging because it was not enabled.\n",
      "Python(17399) MallocStackLogging: can't turn off malloc stack logging because it was not enabled.\n",
      "Python(17407) MallocStackLogging: can't turn off malloc stack logging because it was not enabled.\n",
      "Python(17416) MallocStackLogging: can't turn off malloc stack logging because it was not enabled.\n",
      "Python(17418) MallocStackLogging: can't turn off malloc stack logging because it was not enabled.\n",
      "100%|██████████| 93/93 [01:44<00:00,  1.12s/it]\n"
     ]
    },
    {
     "name": "stdout",
     "output_type": "stream",
     "text": [
      "Valid metrics\n",
      "0.0366139\n",
      "Valid BCE losses\n",
      "is__economic BCE loss: 0.07227861136198044\n",
      "is__health BCE loss: 0.17527355253696442\n",
      "is__polit BCE loss: 0.09138607978820801\n",
      "is__science BCE loss: 0.18871811032295227\n",
      "is__war BCE loss: 0.15983973443508148\n",
      "Result BCE loss: 0.13749921321868896\n",
      "Starting Epoch 9\n",
      "Train phase\n"
     ]
    },
    {
     "name": "stderr",
     "output_type": "stream",
     "text": [
      "  0%|          | 0/370 [00:00<?, ?it/s]Python(17457) MallocStackLogging: can't turn off malloc stack logging because it was not enabled.\n",
      "Python(17459) MallocStackLogging: can't turn off malloc stack logging because it was not enabled.\n",
      "Python(17460) MallocStackLogging: can't turn off malloc stack logging because it was not enabled.\n",
      "Python(17462) MallocStackLogging: can't turn off malloc stack logging because it was not enabled.\n",
      "Python(17463) MallocStackLogging: can't turn off malloc stack logging because it was not enabled.\n",
      "Python(17464) MallocStackLogging: can't turn off malloc stack logging because it was not enabled.\n",
      "Python(17465) MallocStackLogging: can't turn off malloc stack logging because it was not enabled.\n",
      "Python(17467) MallocStackLogging: can't turn off malloc stack logging because it was not enabled.\n",
      " 44%|████▍     | 162/370 [06:11<07:56,  2.29s/it]\n"
     ]
    },
    {
     "ename": "KeyError",
     "evalue": "Caught KeyError in DataLoader worker process 2.\nOriginal Traceback (most recent call last):\n  File \"/Users/taras/Downloads/Project_NLP/venv/lib/python3.9/site-packages/torch/utils/data/_utils/worker.py\", line 308, in _worker_loop\n    data = fetcher.fetch(index)\n  File \"/Users/taras/Downloads/Project_NLP/venv/lib/python3.9/site-packages/torch/utils/data/_utils/fetch.py\", line 54, in fetch\n    return self.collate_fn(data)\n  File \"/Users/taras/Downloads/Project_NLP/venv/lib/python3.9/site-packages/torch/utils/data/_utils/collate.py\", line 265, in default_collate\n    return collate(batch, collate_fn_map=default_collate_fn_map)\n  File \"/Users/taras/Downloads/Project_NLP/venv/lib/python3.9/site-packages/torch/utils/data/_utils/collate.py\", line 127, in collate\n    return elem_type({key: collate([d[key] for d in batch], collate_fn_map=collate_fn_map) for key in elem})\n  File \"/Users/taras/Downloads/Project_NLP/venv/lib/python3.9/site-packages/torch/utils/data/_utils/collate.py\", line 127, in <dictcomp>\n    return elem_type({key: collate([d[key] for d in batch], collate_fn_map=collate_fn_map) for key in elem})\n  File \"/Users/taras/Downloads/Project_NLP/venv/lib/python3.9/site-packages/torch/utils/data/_utils/collate.py\", line 127, in <listcomp>\n    return elem_type({key: collate([d[key] for d in batch], collate_fn_map=collate_fn_map) for key in elem})\nKeyError: 'token_type_ids'\n",
     "output_type": "error",
     "traceback": [
      "\u001b[0;31m---------------------------------------------------------------------------\u001b[0m",
      "\u001b[0;31mKeyError\u001b[0m                                  Traceback (most recent call last)",
      "Cell \u001b[0;32mIn[34], line 19\u001b[0m\n\u001b[1;32m     17\u001b[0m \u001b[38;5;66;03m# 1.1 Iterate over all train dataset and update model weights\u001b[39;00m\n\u001b[1;32m     18\u001b[0m \u001b[38;5;28mprint\u001b[39m(\u001b[38;5;124m\"\u001b[39m\u001b[38;5;124mTrain phase\u001b[39m\u001b[38;5;124m\"\u001b[39m)\n\u001b[0;32m---> 19\u001b[0m train_epoch_labels, train_epoch_losses, train_epoch_targets \u001b[38;5;241m=\u001b[39m \u001b[43mtorch_loop\u001b[49m\u001b[43m(\u001b[49m\n\u001b[1;32m     20\u001b[0m \u001b[43m    \u001b[49m\u001b[43mdataloader\u001b[49m\u001b[38;5;241;43m=\u001b[39;49m\u001b[43mtrain_torch_dataloader\u001b[49m\u001b[43m,\u001b[49m\n\u001b[1;32m     21\u001b[0m \u001b[43m    \u001b[49m\u001b[43minp_model\u001b[49m\u001b[38;5;241;43m=\u001b[39;49m\u001b[43mnn_model\u001b[49m\u001b[43m,\u001b[49m\n\u001b[1;32m     22\u001b[0m \u001b[43m    \u001b[49m\u001b[43minp_optimizer\u001b[49m\u001b[38;5;241;43m=\u001b[39;49m\u001b[43moptimizer\u001b[49m\u001b[43m,\u001b[49m\n\u001b[1;32m     23\u001b[0m \u001b[43m    \u001b[49m\u001b[43minp_criterion\u001b[49m\u001b[38;5;241;43m=\u001b[39;49m\u001b[43mcriterion\u001b[49m\u001b[43m,\u001b[49m\n\u001b[1;32m     24\u001b[0m \u001b[43m    \u001b[49m\u001b[43minp_scheduler\u001b[49m\u001b[38;5;241;43m=\u001b[39;49m\u001b[43mscheduler\u001b[49m\u001b[43m,\u001b[49m\n\u001b[1;32m     25\u001b[0m \u001b[43m    \u001b[49m\u001b[43mdevice\u001b[49m\u001b[38;5;241;43m=\u001b[39;49m\u001b[38;5;124;43m\"\u001b[39;49m\u001b[38;5;124;43mmps\u001b[39;49m\u001b[38;5;124;43m\"\u001b[39;49m\u001b[43m,\u001b[49m\n\u001b[1;32m     26\u001b[0m \u001b[43m    \u001b[49m\u001b[43mmode\u001b[49m\u001b[38;5;241;43m=\u001b[39;49m\u001b[38;5;124;43m\"\u001b[39;49m\u001b[38;5;124;43mtrain\u001b[39;49m\u001b[38;5;124;43m\"\u001b[39;49m\n\u001b[1;32m     27\u001b[0m \u001b[43m\u001b[49m\u001b[43m)\u001b[49m\n\u001b[1;32m     28\u001b[0m \u001b[38;5;66;03m# 1.2 Compute and print train metrics\u001b[39;00m\n\u001b[1;32m     29\u001b[0m \u001b[38;5;28mprint\u001b[39m(\u001b[38;5;124m\"\u001b[39m\u001b[38;5;124mTrain metrics\u001b[39m\u001b[38;5;124m\"\u001b[39m)\n",
      "Cell \u001b[0;32mIn[29], line 20\u001b[0m, in \u001b[0;36mtorch_loop\u001b[0;34m(dataloader, inp_model, inp_optimizer, inp_criterion, inp_scheduler, mode, device)\u001b[0m\n\u001b[1;32m     17\u001b[0m \u001b[38;5;66;03m# We need this context in order to control gradient computation\u001b[39;00m\n\u001b[1;32m     18\u001b[0m \u001b[38;5;66;03m# mode == True - gradient will NOT be computed, mode == False - gradient will be computed\u001b[39;00m\n\u001b[1;32m     19\u001b[0m \u001b[38;5;28;01mwith\u001b[39;00m torch\u001b[38;5;241m.\u001b[39minference_mode(mode\u001b[38;5;241m=\u001b[39m(mode \u001b[38;5;241m!=\u001b[39m \u001b[38;5;124m\"\u001b[39m\u001b[38;5;124mtrain\u001b[39m\u001b[38;5;124m\"\u001b[39m)):\n\u001b[0;32m---> 20\u001b[0m     \u001b[38;5;28;01mfor\u001b[39;00m text \u001b[38;5;129;01min\u001b[39;00m tqdm(dataloader):\n\u001b[1;32m     21\u001b[0m         text \u001b[38;5;241m=\u001b[39m {k:v\u001b[38;5;241m.\u001b[39mto(device) \u001b[38;5;28;01mfor\u001b[39;00m k,v \u001b[38;5;129;01min\u001b[39;00m text\u001b[38;5;241m.\u001b[39mitems()}\n\u001b[1;32m     22\u001b[0m         label \u001b[38;5;241m=\u001b[39m text\u001b[38;5;241m.\u001b[39mpop(\u001b[38;5;124m\"\u001b[39m\u001b[38;5;124mtarget\u001b[39m\u001b[38;5;124m\"\u001b[39m)\n",
      "File \u001b[0;32m~/Downloads/Project_NLP/venv/lib/python3.9/site-packages/tqdm/std.py:1182\u001b[0m, in \u001b[0;36mtqdm.__iter__\u001b[0;34m(self)\u001b[0m\n\u001b[1;32m   1179\u001b[0m time \u001b[38;5;241m=\u001b[39m \u001b[38;5;28mself\u001b[39m\u001b[38;5;241m.\u001b[39m_time\n\u001b[1;32m   1181\u001b[0m \u001b[38;5;28;01mtry\u001b[39;00m:\n\u001b[0;32m-> 1182\u001b[0m     \u001b[38;5;28;01mfor\u001b[39;00m obj \u001b[38;5;129;01min\u001b[39;00m iterable:\n\u001b[1;32m   1183\u001b[0m         \u001b[38;5;28;01myield\u001b[39;00m obj\n\u001b[1;32m   1184\u001b[0m         \u001b[38;5;66;03m# Update and possibly print the progressbar.\u001b[39;00m\n\u001b[1;32m   1185\u001b[0m         \u001b[38;5;66;03m# Note: does not call self.update(1) for speed optimisation.\u001b[39;00m\n",
      "File \u001b[0;32m~/Downloads/Project_NLP/venv/lib/python3.9/site-packages/torch/utils/data/dataloader.py:630\u001b[0m, in \u001b[0;36m_BaseDataLoaderIter.__next__\u001b[0;34m(self)\u001b[0m\n\u001b[1;32m    627\u001b[0m \u001b[38;5;28;01mif\u001b[39;00m \u001b[38;5;28mself\u001b[39m\u001b[38;5;241m.\u001b[39m_sampler_iter \u001b[38;5;129;01mis\u001b[39;00m \u001b[38;5;28;01mNone\u001b[39;00m:\n\u001b[1;32m    628\u001b[0m     \u001b[38;5;66;03m# TODO(https://github.com/pytorch/pytorch/issues/76750)\u001b[39;00m\n\u001b[1;32m    629\u001b[0m     \u001b[38;5;28mself\u001b[39m\u001b[38;5;241m.\u001b[39m_reset()  \u001b[38;5;66;03m# type: ignore[call-arg]\u001b[39;00m\n\u001b[0;32m--> 630\u001b[0m data \u001b[38;5;241m=\u001b[39m \u001b[38;5;28;43mself\u001b[39;49m\u001b[38;5;241;43m.\u001b[39;49m\u001b[43m_next_data\u001b[49m\u001b[43m(\u001b[49m\u001b[43m)\u001b[49m\n\u001b[1;32m    631\u001b[0m \u001b[38;5;28mself\u001b[39m\u001b[38;5;241m.\u001b[39m_num_yielded \u001b[38;5;241m+\u001b[39m\u001b[38;5;241m=\u001b[39m \u001b[38;5;241m1\u001b[39m\n\u001b[1;32m    632\u001b[0m \u001b[38;5;28;01mif\u001b[39;00m \u001b[38;5;28mself\u001b[39m\u001b[38;5;241m.\u001b[39m_dataset_kind \u001b[38;5;241m==\u001b[39m _DatasetKind\u001b[38;5;241m.\u001b[39mIterable \u001b[38;5;129;01mand\u001b[39;00m \\\n\u001b[1;32m    633\u001b[0m         \u001b[38;5;28mself\u001b[39m\u001b[38;5;241m.\u001b[39m_IterableDataset_len_called \u001b[38;5;129;01mis\u001b[39;00m \u001b[38;5;129;01mnot\u001b[39;00m \u001b[38;5;28;01mNone\u001b[39;00m \u001b[38;5;129;01mand\u001b[39;00m \\\n\u001b[1;32m    634\u001b[0m         \u001b[38;5;28mself\u001b[39m\u001b[38;5;241m.\u001b[39m_num_yielded \u001b[38;5;241m>\u001b[39m \u001b[38;5;28mself\u001b[39m\u001b[38;5;241m.\u001b[39m_IterableDataset_len_called:\n",
      "File \u001b[0;32m~/Downloads/Project_NLP/venv/lib/python3.9/site-packages/torch/utils/data/dataloader.py:1345\u001b[0m, in \u001b[0;36m_MultiProcessingDataLoaderIter._next_data\u001b[0;34m(self)\u001b[0m\n\u001b[1;32m   1343\u001b[0m \u001b[38;5;28;01melse\u001b[39;00m:\n\u001b[1;32m   1344\u001b[0m     \u001b[38;5;28;01mdel\u001b[39;00m \u001b[38;5;28mself\u001b[39m\u001b[38;5;241m.\u001b[39m_task_info[idx]\n\u001b[0;32m-> 1345\u001b[0m     \u001b[38;5;28;01mreturn\u001b[39;00m \u001b[38;5;28;43mself\u001b[39;49m\u001b[38;5;241;43m.\u001b[39;49m\u001b[43m_process_data\u001b[49m\u001b[43m(\u001b[49m\u001b[43mdata\u001b[49m\u001b[43m)\u001b[49m\n",
      "File \u001b[0;32m~/Downloads/Project_NLP/venv/lib/python3.9/site-packages/torch/utils/data/dataloader.py:1371\u001b[0m, in \u001b[0;36m_MultiProcessingDataLoaderIter._process_data\u001b[0;34m(self, data)\u001b[0m\n\u001b[1;32m   1369\u001b[0m \u001b[38;5;28mself\u001b[39m\u001b[38;5;241m.\u001b[39m_try_put_index()\n\u001b[1;32m   1370\u001b[0m \u001b[38;5;28;01mif\u001b[39;00m \u001b[38;5;28misinstance\u001b[39m(data, ExceptionWrapper):\n\u001b[0;32m-> 1371\u001b[0m     \u001b[43mdata\u001b[49m\u001b[38;5;241;43m.\u001b[39;49m\u001b[43mreraise\u001b[49m\u001b[43m(\u001b[49m\u001b[43m)\u001b[49m\n\u001b[1;32m   1372\u001b[0m \u001b[38;5;28;01mreturn\u001b[39;00m data\n",
      "File \u001b[0;32m~/Downloads/Project_NLP/venv/lib/python3.9/site-packages/torch/_utils.py:694\u001b[0m, in \u001b[0;36mExceptionWrapper.reraise\u001b[0;34m(self)\u001b[0m\n\u001b[1;32m    690\u001b[0m \u001b[38;5;28;01mexcept\u001b[39;00m \u001b[38;5;167;01mTypeError\u001b[39;00m:\n\u001b[1;32m    691\u001b[0m     \u001b[38;5;66;03m# If the exception takes multiple arguments, don't try to\u001b[39;00m\n\u001b[1;32m    692\u001b[0m     \u001b[38;5;66;03m# instantiate since we don't know how to\u001b[39;00m\n\u001b[1;32m    693\u001b[0m     \u001b[38;5;28;01mraise\u001b[39;00m \u001b[38;5;167;01mRuntimeError\u001b[39;00m(msg) \u001b[38;5;28;01mfrom\u001b[39;00m \u001b[38;5;28;01mNone\u001b[39;00m\n\u001b[0;32m--> 694\u001b[0m \u001b[38;5;28;01mraise\u001b[39;00m exception\n",
      "\u001b[0;31mKeyError\u001b[0m: Caught KeyError in DataLoader worker process 2.\nOriginal Traceback (most recent call last):\n  File \"/Users/taras/Downloads/Project_NLP/venv/lib/python3.9/site-packages/torch/utils/data/_utils/worker.py\", line 308, in _worker_loop\n    data = fetcher.fetch(index)\n  File \"/Users/taras/Downloads/Project_NLP/venv/lib/python3.9/site-packages/torch/utils/data/_utils/fetch.py\", line 54, in fetch\n    return self.collate_fn(data)\n  File \"/Users/taras/Downloads/Project_NLP/venv/lib/python3.9/site-packages/torch/utils/data/_utils/collate.py\", line 265, in default_collate\n    return collate(batch, collate_fn_map=default_collate_fn_map)\n  File \"/Users/taras/Downloads/Project_NLP/venv/lib/python3.9/site-packages/torch/utils/data/_utils/collate.py\", line 127, in collate\n    return elem_type({key: collate([d[key] for d in batch], collate_fn_map=collate_fn_map) for key in elem})\n  File \"/Users/taras/Downloads/Project_NLP/venv/lib/python3.9/site-packages/torch/utils/data/_utils/collate.py\", line 127, in <dictcomp>\n    return elem_type({key: collate([d[key] for d in batch], collate_fn_map=collate_fn_map) for key in elem})\n  File \"/Users/taras/Downloads/Project_NLP/venv/lib/python3.9/site-packages/torch/utils/data/_utils/collate.py\", line 127, in <listcomp>\n    return elem_type({key: collate([d[key] for d in batch], collate_fn_map=collate_fn_map) for key in elem})\nKeyError: 'token_type_ids'\n"
     ]
    }
   ],
   "source": [
    "from sklearn.metrics import mean_squared_error\n",
    "\n",
    "train_all_epoch_labels = []\n",
    "train_all_epoch_losses = []\n",
    "train_all_epoch_targets = []\n",
    "valid_all_epoch_labels = []\n",
    "valid_all_epoch_losses = []\n",
    "valid_all_epoch_targets = []\n",
    "valid_roc_aucs = []\n",
    "train_roc_aucs = []\n",
    "\n",
    "best_metric = np.inf\n",
    "best_model_state_dict = None\n",
    "\n",
    "for epoch in range(1, n_epochs + 1):\n",
    "    print(f\"Starting Epoch {epoch}\")\n",
    "    # 1.1 Iterate over all train dataset and update model weights\n",
    "    print(\"Train phase\")\n",
    "    train_epoch_labels, train_epoch_losses, train_epoch_targets = torch_loop(\n",
    "        dataloader=train_torch_dataloader,\n",
    "        inp_model=nn_model,\n",
    "        inp_optimizer=optimizer,\n",
    "        inp_criterion=criterion,\n",
    "        inp_scheduler=scheduler,\n",
    "        device=\"mps\",\n",
    "        mode=\"train\"\n",
    "    )\n",
    "    # 1.2 Compute and print train metrics\n",
    "    print(\"Train metrics\")\n",
    "    train_roc_auc = mean_squared_error(\n",
    "        train_epoch_targets,\n",
    "        train_epoch_labels\n",
    "    )\n",
    "    print(train_roc_auc)\n",
    "    print(\"Train BCE losses\")\n",
    "    print_losses(train_epoch_losses)\n",
    "    # 2.1 Iterate over all valid dataset and compute predictions\n",
    "    print(\"Valid phase\")\n",
    "    valid_epoch_labels, valid_epoch_losses, valid_epoch_targets = torch_loop(\n",
    "        dataloader=valid_torch_dataloader,\n",
    "        inp_model=nn_model,\n",
    "        inp_optimizer=optimizer,\n",
    "        inp_criterion=criterion,\n",
    "        device=\"mps\",\n",
    "        mode=\"eval\"\n",
    "    )\n",
    "    # 2.2 Compute and print valid metrics\n",
    "    print(\"Valid metrics\")\n",
    "    valid_roc_auc = mean_squared_error(\n",
    "        valid_epoch_targets,\n",
    "        valid_epoch_labels\n",
    "    )\n",
    "    print(valid_roc_auc)\n",
    "    print(\"Valid BCE losses\")\n",
    "    print_losses(valid_epoch_losses)\n",
    "    # # 3. Update learning rate (if needed)\n",
    "    # scheduler.step(valid_roc_auc)\n",
    "    # 4. Save best model\n",
    "    if valid_roc_auc < best_metric:\n",
    "        best_metric = valid_roc_auc\n",
    "        best_model_state_dict = deepcopy(nn_model.state_dict())\n",
    "    # 5. Accumulate all stats\n",
    "    train_all_epoch_labels.append(train_epoch_labels)\n",
    "    train_all_epoch_losses.append(train_epoch_losses)\n",
    "    train_all_epoch_targets.append(train_epoch_targets)\n",
    "    valid_all_epoch_labels.append(valid_epoch_labels)\n",
    "    valid_all_epoch_losses.append(valid_epoch_losses)\n",
    "    valid_all_epoch_targets.append(valid_epoch_targets)\n",
    "    valid_roc_aucs.append(valid_roc_auc)\n",
    "    train_roc_aucs.append(train_roc_auc)"
   ]
  },
  {
   "cell_type": "code",
   "execution_count": 24,
   "id": "2392490d-a046-4349-8b1f-29df88f0e453",
   "metadata": {
    "ExecuteTime": {
     "end_time": "2023-12-09T17:01:25.729075Z",
     "start_time": "2023-12-09T17:01:25.721752Z"
    }
   },
   "outputs": [
    {
     "data": {
      "text/plain": [
       "[array([[0., 1., 0., 0., 0.],\n",
       "        [0., 1., 0., 0., 0.],\n",
       "        [0., 0., 0., 0., 1.],\n",
       "        ...,\n",
       "        [0., 0., 1., 0., 0.],\n",
       "        [0., 0., 0., 1., 0.],\n",
       "        [0., 0., 0., 0., 1.]], dtype=float32),\n",
       " array([[0., 1., 0., 0., 0.],\n",
       "        [0., 1., 0., 0., 0.],\n",
       "        [0., 0., 0., 0., 1.],\n",
       "        ...,\n",
       "        [0., 0., 1., 0., 0.],\n",
       "        [0., 0., 0., 1., 0.],\n",
       "        [0., 0., 0., 0., 1.]], dtype=float32),\n",
       " array([[0., 1., 0., 0., 0.],\n",
       "        [0., 1., 0., 0., 0.],\n",
       "        [0., 0., 0., 0., 1.],\n",
       "        ...,\n",
       "        [0., 0., 1., 0., 0.],\n",
       "        [0., 0., 0., 1., 0.],\n",
       "        [0., 0., 0., 0., 1.]], dtype=float32),\n",
       " array([[0., 1., 0., 0., 0.],\n",
       "        [0., 1., 0., 0., 0.],\n",
       "        [0., 0., 0., 0., 1.],\n",
       "        ...,\n",
       "        [0., 0., 1., 0., 0.],\n",
       "        [0., 0., 0., 1., 0.],\n",
       "        [0., 0., 0., 0., 1.]], dtype=float32),\n",
       " array([[0., 1., 0., 0., 0.],\n",
       "        [0., 1., 0., 0., 0.],\n",
       "        [0., 0., 0., 0., 1.],\n",
       "        ...,\n",
       "        [0., 0., 1., 0., 0.],\n",
       "        [0., 0., 0., 1., 0.],\n",
       "        [0., 0., 0., 0., 1.]], dtype=float32),\n",
       " array([[0., 1., 0., 0., 0.],\n",
       "        [0., 1., 0., 0., 0.],\n",
       "        [0., 0., 0., 0., 1.],\n",
       "        ...,\n",
       "        [0., 0., 1., 0., 0.],\n",
       "        [0., 0., 0., 1., 0.],\n",
       "        [0., 0., 0., 0., 1.]], dtype=float32),\n",
       " array([[0., 1., 0., 0., 0.],\n",
       "        [0., 1., 0., 0., 0.],\n",
       "        [0., 0., 0., 0., 1.],\n",
       "        ...,\n",
       "        [0., 0., 1., 0., 0.],\n",
       "        [0., 0., 0., 1., 0.],\n",
       "        [0., 0., 0., 0., 1.]], dtype=float32),\n",
       " array([[0., 1., 0., 0., 0.],\n",
       "        [0., 1., 0., 0., 0.],\n",
       "        [0., 0., 0., 0., 1.],\n",
       "        ...,\n",
       "        [0., 0., 1., 0., 0.],\n",
       "        [0., 0., 0., 1., 0.],\n",
       "        [0., 0., 0., 0., 1.]], dtype=float32),\n",
       " array([[0., 1., 0., 0., 0.],\n",
       "        [0., 1., 0., 0., 0.],\n",
       "        [0., 0., 0., 0., 1.],\n",
       "        ...,\n",
       "        [0., 0., 1., 0., 0.],\n",
       "        [0., 0., 0., 1., 0.],\n",
       "        [0., 0., 0., 0., 1.]], dtype=float32),\n",
       " array([[0., 1., 0., 0., 0.],\n",
       "        [0., 1., 0., 0., 0.],\n",
       "        [0., 0., 0., 0., 1.],\n",
       "        ...,\n",
       "        [0., 0., 1., 0., 0.],\n",
       "        [0., 0., 0., 1., 0.],\n",
       "        [0., 0., 0., 0., 1.]], dtype=float32)]"
      ]
     },
     "execution_count": 24,
     "metadata": {},
     "output_type": "execute_result"
    }
   ],
   "source": [
    "valid_all_epoch_targets"
   ]
  },
  {
   "cell_type": "code",
   "execution_count": 35,
   "id": "39250894-cee8-4d27-8bd8-7c80f03b97b7",
   "metadata": {
    "ExecuteTime": {
     "end_time": "2023-12-10T22:24:11.185937Z",
     "start_time": "2023-12-10T22:24:11.176874Z"
    }
   },
   "outputs": [
    {
     "data": {
      "text/plain": [
       "[0.14344773,\n",
       " 0.078707136,\n",
       " 0.050393928,\n",
       " 0.03853585,\n",
       " 0.030889887,\n",
       " 0.026778629,\n",
       " 0.022082401,\n",
       " 0.019512009]"
      ]
     },
     "execution_count": 35,
     "metadata": {},
     "output_type": "execute_result"
    }
   ],
   "source": [
    "train_roc_aucs"
   ]
  },
  {
   "cell_type": "code",
   "execution_count": 36,
   "id": "1f5facf8bee3be91",
   "metadata": {
    "ExecuteTime": {
     "end_time": "2023-12-10T22:24:30.884628Z",
     "start_time": "2023-12-10T22:24:30.881202Z"
    }
   },
   "outputs": [
    {
     "data": {
      "text/plain": [
       "[0.100833036,\n",
       " 0.056158137,\n",
       " 0.047966428,\n",
       " 0.042426776,\n",
       " 0.040941723,\n",
       " 0.037477303,\n",
       " 0.038887825,\n",
       " 0.0366139]"
      ]
     },
     "execution_count": 36,
     "metadata": {},
     "output_type": "execute_result"
    }
   ],
   "source": [
    "valid_roc_aucs"
   ]
  },
  {
   "cell_type": "code",
   "execution_count": 38,
   "id": "b7ae413943d96fad",
   "metadata": {
    "ExecuteTime": {
     "end_time": "2023-12-10T22:24:48.929311Z",
     "start_time": "2023-12-10T22:24:48.919983Z"
    }
   },
   "outputs": [
    {
     "data": {
      "text/plain": [
       "BertForSequenceClassification(\n",
       "  (bert): BertModel(\n",
       "    (embeddings): BertEmbeddings(\n",
       "      (word_embeddings): Embedding(43417, 768, padding_idx=0)\n",
       "      (position_embeddings): Embedding(512, 768)\n",
       "      (token_type_embeddings): Embedding(2, 768)\n",
       "      (LayerNorm): LayerNorm((768,), eps=1e-12, elementwise_affine=True)\n",
       "      (dropout): Dropout(p=0.1, inplace=False)\n",
       "    )\n",
       "    (encoder): BertEncoder(\n",
       "      (layer): ModuleList(\n",
       "        (0-11): 12 x BertLayer(\n",
       "          (attention): BertAttention(\n",
       "            (self): BertSelfAttention(\n",
       "              (query): Linear(in_features=768, out_features=768, bias=True)\n",
       "              (key): Linear(in_features=768, out_features=768, bias=True)\n",
       "              (value): Linear(in_features=768, out_features=768, bias=True)\n",
       "              (dropout): Dropout(p=0.1, inplace=False)\n",
       "            )\n",
       "            (output): BertSelfOutput(\n",
       "              (dense): Linear(in_features=768, out_features=768, bias=True)\n",
       "              (LayerNorm): LayerNorm((768,), eps=1e-12, elementwise_affine=True)\n",
       "              (dropout): Dropout(p=0.1, inplace=False)\n",
       "            )\n",
       "          )\n",
       "          (intermediate): BertIntermediate(\n",
       "            (dense): Linear(in_features=768, out_features=3072, bias=True)\n",
       "            (intermediate_act_fn): GELUActivation()\n",
       "          )\n",
       "          (output): BertOutput(\n",
       "            (dense): Linear(in_features=3072, out_features=768, bias=True)\n",
       "            (LayerNorm): LayerNorm((768,), eps=1e-12, elementwise_affine=True)\n",
       "            (dropout): Dropout(p=0.1, inplace=False)\n",
       "          )\n",
       "        )\n",
       "      )\n",
       "    )\n",
       "    (pooler): BertPooler(\n",
       "      (dense): Linear(in_features=768, out_features=768, bias=True)\n",
       "      (activation): Tanh()\n",
       "    )\n",
       "  )\n",
       "  (dropout): Dropout(p=0.1, inplace=False)\n",
       "  (classifier): Linear(in_features=768, out_features=5, bias=True)\n",
       ")"
      ]
     },
     "execution_count": 38,
     "metadata": {},
     "output_type": "execute_result"
    }
   ],
   "source": [
    "nn_model"
   ]
  },
  {
   "cell_type": "code",
   "execution_count": 30,
   "id": "89bf96e7649ab751",
   "metadata": {
    "ExecuteTime": {
     "end_time": "2023-12-09T17:13:06.158990Z",
     "start_time": "2023-12-09T17:13:06.009639Z"
    }
   },
   "outputs": [
    {
     "name": "stdout",
     "output_type": "stream",
     "text": [
      "/Users/taras/Downloads/Project_NLP\r\n"
     ]
    }
   ],
   "source": [
    "!pwd"
   ]
  },
  {
   "cell_type": "code",
   "execution_count": 39,
   "id": "db230eef7ff5a95",
   "metadata": {
    "ExecuteTime": {
     "end_time": "2023-12-10T22:25:07.622042Z",
     "start_time": "2023-12-10T22:25:07.302599Z"
    }
   },
   "outputs": [
    {
     "data": {
      "text/plain": [
       "('/Users/taras/Downloads/Project_NLP/model_diff_lang/tokenizer_config.json',\n",
       " '/Users/taras/Downloads/Project_NLP/model_diff_lang/special_tokens_map.json',\n",
       " '/Users/taras/Downloads/Project_NLP/model_diff_lang/vocab.txt',\n",
       " '/Users/taras/Downloads/Project_NLP/model_diff_lang/added_tokens.json')"
      ]
     },
     "execution_count": 39,
     "metadata": {},
     "output_type": "execute_result"
    }
   ],
   "source": [
    "save_directory = '/Users/taras/Downloads/Project_NLP/model_diff_lang'\n",
    "nn_model.save_pretrained(save_directory)\n",
    "tokenizer.save_pretrained(save_directory)"
   ]
  },
  {
   "cell_type": "code",
   "execution_count": 39,
   "id": "765014c00ec1de2b",
   "metadata": {
    "ExecuteTime": {
     "end_time": "2023-12-09T17:25:42.511860Z",
     "start_time": "2023-12-09T17:25:42.507674Z"
    }
   },
   "outputs": [
    {
     "data": {
      "text/plain": [
       "array([[4.70892410e-05, 3.67159188e-01, 8.04361298e-06, 6.00904226e-04,\n",
       "        8.28051090e-01],\n",
       "       [1.14066352e-04, 9.99780834e-01, 3.35328397e-04, 1.18717537e-04,\n",
       "        5.16932087e-05],\n",
       "       [1.02319864e-04, 9.54256539e-05, 1.39818207e-04, 1.30526489e-04,\n",
       "        9.99747813e-01],\n",
       "       ...,\n",
       "       [7.72902131e-05, 2.08827536e-04, 9.99150991e-01, 1.52173146e-04,\n",
       "        5.08410158e-04],\n",
       "       [8.24524104e-05, 4.46900493e-04, 7.75434310e-05, 9.99559104e-01,\n",
       "        1.56204860e-05],\n",
       "       [5.71390738e-05, 1.02134545e-04, 1.43849145e-04, 1.36959803e-04,\n",
       "        9.99782979e-01]], dtype=float32)"
      ]
     },
     "execution_count": 39,
     "metadata": {},
     "output_type": "execute_result"
    }
   ],
   "source": [
    "valid_all_epoch_labels[9]"
   ]
  },
  {
   "cell_type": "code",
   "execution_count": 38,
   "id": "bfe673bb447645c2",
   "metadata": {
    "ExecuteTime": {
     "end_time": "2023-12-09T17:25:27.032742Z",
     "start_time": "2023-12-09T17:25:27.020569Z"
    }
   },
   "outputs": [
    {
     "data": {
      "text/plain": [
       "array([[0., 1., 0., 0., 0.],\n",
       "       [0., 1., 0., 0., 0.],\n",
       "       [0., 0., 0., 0., 1.],\n",
       "       ...,\n",
       "       [0., 0., 1., 0., 0.],\n",
       "       [0., 0., 0., 1., 0.],\n",
       "       [0., 0., 0., 0., 1.]], dtype=float32)"
      ]
     },
     "execution_count": 38,
     "metadata": {},
     "output_type": "execute_result"
    }
   ],
   "source": [
    "valid_all_epoch_targets[9]"
   ]
  },
  {
   "cell_type": "code",
   "execution_count": 40,
   "id": "8d41f2fd705109af",
   "metadata": {
    "ExecuteTime": {
     "end_time": "2023-12-09T18:11:30.289753Z",
     "start_time": "2023-12-09T18:11:29.992807Z"
    }
   },
   "outputs": [
    {
     "ename": "TypeError",
     "evalue": "Object of type ndarray is not JSON serializable",
     "output_type": "error",
     "traceback": [
      "\u001b[0;31m---------------------------------------------------------------------------\u001b[0m",
      "\u001b[0;31mTypeError\u001b[0m                                 Traceback (most recent call last)",
      "Cell \u001b[0;32mIn[40], line 4\u001b[0m\n\u001b[1;32m      1\u001b[0m \u001b[38;5;28;01mimport\u001b[39;00m \u001b[38;5;21;01mjson\u001b[39;00m\n\u001b[1;32m      3\u001b[0m \u001b[38;5;28;01mwith\u001b[39;00m \u001b[38;5;28mopen\u001b[39m(\u001b[38;5;124m'\u001b[39m\u001b[38;5;124mvalid_all_epoch_labels.json\u001b[39m\u001b[38;5;124m'\u001b[39m, \u001b[38;5;124m'\u001b[39m\u001b[38;5;124mw\u001b[39m\u001b[38;5;124m'\u001b[39m) \u001b[38;5;28;01mas\u001b[39;00m f:\n\u001b[0;32m----> 4\u001b[0m     \u001b[43mjson\u001b[49m\u001b[38;5;241;43m.\u001b[39;49m\u001b[43mdump\u001b[49m\u001b[43m(\u001b[49m\u001b[43mvalid_all_epoch_labels\u001b[49m\u001b[43m,\u001b[49m\u001b[43m \u001b[49m\u001b[43mf\u001b[49m\u001b[43m)\u001b[49m\n\u001b[1;32m      5\u001b[0m \u001b[38;5;28;01mwith\u001b[39;00m \u001b[38;5;28mopen\u001b[39m(\u001b[38;5;124m'\u001b[39m\u001b[38;5;124mvalid_all_epoch_targets.json\u001b[39m\u001b[38;5;124m'\u001b[39m, \u001b[38;5;124m'\u001b[39m\u001b[38;5;124mw\u001b[39m\u001b[38;5;124m'\u001b[39m) \u001b[38;5;28;01mas\u001b[39;00m f:\n\u001b[1;32m      6\u001b[0m     json\u001b[38;5;241m.\u001b[39mdump(valid_all_epoch_targets, f)\n",
      "File \u001b[0;32m/opt/homebrew/Cellar/python@3.9/3.9.13_1/Frameworks/Python.framework/Versions/3.9/lib/python3.9/json/__init__.py:179\u001b[0m, in \u001b[0;36mdump\u001b[0;34m(obj, fp, skipkeys, ensure_ascii, check_circular, allow_nan, cls, indent, separators, default, sort_keys, **kw)\u001b[0m\n\u001b[1;32m    173\u001b[0m     iterable \u001b[38;5;241m=\u001b[39m \u001b[38;5;28mcls\u001b[39m(skipkeys\u001b[38;5;241m=\u001b[39mskipkeys, ensure_ascii\u001b[38;5;241m=\u001b[39mensure_ascii,\n\u001b[1;32m    174\u001b[0m         check_circular\u001b[38;5;241m=\u001b[39mcheck_circular, allow_nan\u001b[38;5;241m=\u001b[39mallow_nan, indent\u001b[38;5;241m=\u001b[39mindent,\n\u001b[1;32m    175\u001b[0m         separators\u001b[38;5;241m=\u001b[39mseparators,\n\u001b[1;32m    176\u001b[0m         default\u001b[38;5;241m=\u001b[39mdefault, sort_keys\u001b[38;5;241m=\u001b[39msort_keys, \u001b[38;5;241m*\u001b[39m\u001b[38;5;241m*\u001b[39mkw)\u001b[38;5;241m.\u001b[39miterencode(obj)\n\u001b[1;32m    177\u001b[0m \u001b[38;5;66;03m# could accelerate with writelines in some versions of Python, at\u001b[39;00m\n\u001b[1;32m    178\u001b[0m \u001b[38;5;66;03m# a debuggability cost\u001b[39;00m\n\u001b[0;32m--> 179\u001b[0m \u001b[38;5;28;01mfor\u001b[39;00m chunk \u001b[38;5;129;01min\u001b[39;00m iterable:\n\u001b[1;32m    180\u001b[0m     fp\u001b[38;5;241m.\u001b[39mwrite(chunk)\n",
      "File \u001b[0;32m/opt/homebrew/Cellar/python@3.9/3.9.13_1/Frameworks/Python.framework/Versions/3.9/lib/python3.9/json/encoder.py:429\u001b[0m, in \u001b[0;36m_make_iterencode.<locals>._iterencode\u001b[0;34m(o, _current_indent_level)\u001b[0m\n\u001b[1;32m    427\u001b[0m     \u001b[38;5;28;01myield\u001b[39;00m _floatstr(o)\n\u001b[1;32m    428\u001b[0m \u001b[38;5;28;01melif\u001b[39;00m \u001b[38;5;28misinstance\u001b[39m(o, (\u001b[38;5;28mlist\u001b[39m, \u001b[38;5;28mtuple\u001b[39m)):\n\u001b[0;32m--> 429\u001b[0m     \u001b[38;5;28;01myield from\u001b[39;00m _iterencode_list(o, _current_indent_level)\n\u001b[1;32m    430\u001b[0m \u001b[38;5;28;01melif\u001b[39;00m \u001b[38;5;28misinstance\u001b[39m(o, \u001b[38;5;28mdict\u001b[39m):\n\u001b[1;32m    431\u001b[0m     \u001b[38;5;28;01myield from\u001b[39;00m _iterencode_dict(o, _current_indent_level)\n",
      "File \u001b[0;32m/opt/homebrew/Cellar/python@3.9/3.9.13_1/Frameworks/Python.framework/Versions/3.9/lib/python3.9/json/encoder.py:325\u001b[0m, in \u001b[0;36m_make_iterencode.<locals>._iterencode_list\u001b[0;34m(lst, _current_indent_level)\u001b[0m\n\u001b[1;32m    323\u001b[0m         \u001b[38;5;28;01melse\u001b[39;00m:\n\u001b[1;32m    324\u001b[0m             chunks \u001b[38;5;241m=\u001b[39m _iterencode(value, _current_indent_level)\n\u001b[0;32m--> 325\u001b[0m         \u001b[38;5;28;01myield from\u001b[39;00m chunks\n\u001b[1;32m    326\u001b[0m \u001b[38;5;28;01mif\u001b[39;00m newline_indent \u001b[38;5;129;01mis\u001b[39;00m \u001b[38;5;129;01mnot\u001b[39;00m \u001b[38;5;28;01mNone\u001b[39;00m:\n\u001b[1;32m    327\u001b[0m     _current_indent_level \u001b[38;5;241m-\u001b[39m\u001b[38;5;241m=\u001b[39m \u001b[38;5;241m1\u001b[39m\n",
      "File \u001b[0;32m/opt/homebrew/Cellar/python@3.9/3.9.13_1/Frameworks/Python.framework/Versions/3.9/lib/python3.9/json/encoder.py:438\u001b[0m, in \u001b[0;36m_make_iterencode.<locals>._iterencode\u001b[0;34m(o, _current_indent_level)\u001b[0m\n\u001b[1;32m    436\u001b[0m         \u001b[38;5;28;01mraise\u001b[39;00m \u001b[38;5;167;01mValueError\u001b[39;00m(\u001b[38;5;124m\"\u001b[39m\u001b[38;5;124mCircular reference detected\u001b[39m\u001b[38;5;124m\"\u001b[39m)\n\u001b[1;32m    437\u001b[0m     markers[markerid] \u001b[38;5;241m=\u001b[39m o\n\u001b[0;32m--> 438\u001b[0m o \u001b[38;5;241m=\u001b[39m \u001b[43m_default\u001b[49m\u001b[43m(\u001b[49m\u001b[43mo\u001b[49m\u001b[43m)\u001b[49m\n\u001b[1;32m    439\u001b[0m \u001b[38;5;28;01myield from\u001b[39;00m _iterencode(o, _current_indent_level)\n\u001b[1;32m    440\u001b[0m \u001b[38;5;28;01mif\u001b[39;00m markers \u001b[38;5;129;01mis\u001b[39;00m \u001b[38;5;129;01mnot\u001b[39;00m \u001b[38;5;28;01mNone\u001b[39;00m:\n",
      "File \u001b[0;32m/opt/homebrew/Cellar/python@3.9/3.9.13_1/Frameworks/Python.framework/Versions/3.9/lib/python3.9/json/encoder.py:179\u001b[0m, in \u001b[0;36mJSONEncoder.default\u001b[0;34m(self, o)\u001b[0m\n\u001b[1;32m    160\u001b[0m \u001b[38;5;28;01mdef\u001b[39;00m \u001b[38;5;21mdefault\u001b[39m(\u001b[38;5;28mself\u001b[39m, o):\n\u001b[1;32m    161\u001b[0m \u001b[38;5;250m    \u001b[39m\u001b[38;5;124;03m\"\"\"Implement this method in a subclass such that it returns\u001b[39;00m\n\u001b[1;32m    162\u001b[0m \u001b[38;5;124;03m    a serializable object for ``o``, or calls the base implementation\u001b[39;00m\n\u001b[1;32m    163\u001b[0m \u001b[38;5;124;03m    (to raise a ``TypeError``).\u001b[39;00m\n\u001b[0;32m   (...)\u001b[0m\n\u001b[1;32m    177\u001b[0m \n\u001b[1;32m    178\u001b[0m \u001b[38;5;124;03m    \"\"\"\u001b[39;00m\n\u001b[0;32m--> 179\u001b[0m     \u001b[38;5;28;01mraise\u001b[39;00m \u001b[38;5;167;01mTypeError\u001b[39;00m(\u001b[38;5;124mf\u001b[39m\u001b[38;5;124m'\u001b[39m\u001b[38;5;124mObject of type \u001b[39m\u001b[38;5;132;01m{\u001b[39;00mo\u001b[38;5;241m.\u001b[39m\u001b[38;5;18m__class__\u001b[39m\u001b[38;5;241m.\u001b[39m\u001b[38;5;18m__name__\u001b[39m\u001b[38;5;132;01m}\u001b[39;00m\u001b[38;5;124m \u001b[39m\u001b[38;5;124m'\u001b[39m\n\u001b[1;32m    180\u001b[0m                     \u001b[38;5;124mf\u001b[39m\u001b[38;5;124m'\u001b[39m\u001b[38;5;124mis not JSON serializable\u001b[39m\u001b[38;5;124m'\u001b[39m)\n",
      "\u001b[0;31mTypeError\u001b[0m: Object of type ndarray is not JSON serializable"
     ]
    }
   ],
   "source": [
    "import json\n",
    "\n",
    "with open('valid_all_epoch_labels.json', 'w') as f:\n",
    "    json.dump(valid_all_epoch_labels, f)\n",
    "with open('valid_all_epoch_targets.json', 'w') as f:\n",
    "    json.dump(valid_all_epoch_targets, f)"
   ]
  },
  {
   "cell_type": "code",
   "execution_count": 40,
   "id": "99d600ea3f76f116",
   "metadata": {
    "ExecuteTime": {
     "end_time": "2023-12-10T22:25:36.405733Z",
     "start_time": "2023-12-10T22:25:36.400851Z"
    }
   },
   "outputs": [],
   "source": [
    "np.save('valid_all_epoch_labels_diff_lang.npy', valid_all_epoch_labels)"
   ]
  },
  {
   "cell_type": "code",
   "execution_count": 41,
   "id": "9e88ec48a301b174",
   "metadata": {
    "ExecuteTime": {
     "end_time": "2023-12-10T22:25:55.112846Z",
     "start_time": "2023-12-10T22:25:55.110007Z"
    }
   },
   "outputs": [],
   "source": [
    "np.save('valid_all_epoch_targets_diff_lang.npy', valid_all_epoch_targets)"
   ]
  },
  {
   "cell_type": "code",
   "execution_count": 43,
   "id": "db006644deab8a9a",
   "metadata": {
    "ExecuteTime": {
     "end_time": "2023-12-10T15:51:09.741285Z",
     "start_time": "2023-12-10T15:51:09.718368Z"
    }
   },
   "outputs": [
    {
     "data": {
      "text/plain": [
       "[array([[0., 1., 0., 0., 0.],\n",
       "        [0., 1., 0., 0., 0.],\n",
       "        [0., 0., 0., 0., 1.],\n",
       "        ...,\n",
       "        [0., 0., 1., 0., 0.],\n",
       "        [0., 0., 0., 1., 0.],\n",
       "        [0., 0., 0., 0., 1.]], dtype=float32),\n",
       " array([[0., 1., 0., 0., 0.],\n",
       "        [0., 1., 0., 0., 0.],\n",
       "        [0., 0., 0., 0., 1.],\n",
       "        ...,\n",
       "        [0., 0., 1., 0., 0.],\n",
       "        [0., 0., 0., 1., 0.],\n",
       "        [0., 0., 0., 0., 1.]], dtype=float32),\n",
       " array([[0., 1., 0., 0., 0.],\n",
       "        [0., 1., 0., 0., 0.],\n",
       "        [0., 0., 0., 0., 1.],\n",
       "        ...,\n",
       "        [0., 0., 1., 0., 0.],\n",
       "        [0., 0., 0., 1., 0.],\n",
       "        [0., 0., 0., 0., 1.]], dtype=float32),\n",
       " array([[0., 1., 0., 0., 0.],\n",
       "        [0., 1., 0., 0., 0.],\n",
       "        [0., 0., 0., 0., 1.],\n",
       "        ...,\n",
       "        [0., 0., 1., 0., 0.],\n",
       "        [0., 0., 0., 1., 0.],\n",
       "        [0., 0., 0., 0., 1.]], dtype=float32),\n",
       " array([[0., 1., 0., 0., 0.],\n",
       "        [0., 1., 0., 0., 0.],\n",
       "        [0., 0., 0., 0., 1.],\n",
       "        ...,\n",
       "        [0., 0., 1., 0., 0.],\n",
       "        [0., 0., 0., 1., 0.],\n",
       "        [0., 0., 0., 0., 1.]], dtype=float32),\n",
       " array([[0., 1., 0., 0., 0.],\n",
       "        [0., 1., 0., 0., 0.],\n",
       "        [0., 0., 0., 0., 1.],\n",
       "        ...,\n",
       "        [0., 0., 1., 0., 0.],\n",
       "        [0., 0., 0., 1., 0.],\n",
       "        [0., 0., 0., 0., 1.]], dtype=float32),\n",
       " array([[0., 1., 0., 0., 0.],\n",
       "        [0., 1., 0., 0., 0.],\n",
       "        [0., 0., 0., 0., 1.],\n",
       "        ...,\n",
       "        [0., 0., 1., 0., 0.],\n",
       "        [0., 0., 0., 1., 0.],\n",
       "        [0., 0., 0., 0., 1.]], dtype=float32),\n",
       " array([[0., 1., 0., 0., 0.],\n",
       "        [0., 1., 0., 0., 0.],\n",
       "        [0., 0., 0., 0., 1.],\n",
       "        ...,\n",
       "        [0., 0., 1., 0., 0.],\n",
       "        [0., 0., 0., 1., 0.],\n",
       "        [0., 0., 0., 0., 1.]], dtype=float32),\n",
       " array([[0., 1., 0., 0., 0.],\n",
       "        [0., 1., 0., 0., 0.],\n",
       "        [0., 0., 0., 0., 1.],\n",
       "        ...,\n",
       "        [0., 0., 1., 0., 0.],\n",
       "        [0., 0., 0., 1., 0.],\n",
       "        [0., 0., 0., 0., 1.]], dtype=float32),\n",
       " array([[0., 1., 0., 0., 0.],\n",
       "        [0., 1., 0., 0., 0.],\n",
       "        [0., 0., 0., 0., 1.],\n",
       "        ...,\n",
       "        [0., 0., 1., 0., 0.],\n",
       "        [0., 0., 0., 1., 0.],\n",
       "        [0., 0., 0., 0., 1.]], dtype=float32)]"
      ]
     },
     "execution_count": 43,
     "metadata": {},
     "output_type": "execute_result"
    }
   ],
   "source": [
    "valid_all_epoch_targets"
   ]
  },
  {
   "cell_type": "code",
   "execution_count": 54,
   "id": "467cf7b33be91763",
   "metadata": {
    "ExecuteTime": {
     "end_time": "2023-12-10T16:06:08.512903Z",
     "start_time": "2023-12-10T16:06:07.286694Z"
    }
   },
   "outputs": [
    {
     "data": {
      "text/plain": [
       "RobertaForSequenceClassification(\n",
       "  (roberta): RobertaModel(\n",
       "    (embeddings): RobertaEmbeddings(\n",
       "      (word_embeddings): Embedding(52000, 768, padding_idx=1)\n",
       "      (position_embeddings): Embedding(514, 768, padding_idx=1)\n",
       "      (token_type_embeddings): Embedding(1, 768)\n",
       "      (LayerNorm): LayerNorm((768,), eps=1e-12, elementwise_affine=True)\n",
       "      (dropout): Dropout(p=0.1, inplace=False)\n",
       "    )\n",
       "    (encoder): RobertaEncoder(\n",
       "      (layer): ModuleList(\n",
       "        (0-11): 12 x RobertaLayer(\n",
       "          (attention): RobertaAttention(\n",
       "            (self): RobertaSelfAttention(\n",
       "              (query): Linear(in_features=768, out_features=768, bias=True)\n",
       "              (key): Linear(in_features=768, out_features=768, bias=True)\n",
       "              (value): Linear(in_features=768, out_features=768, bias=True)\n",
       "              (dropout): Dropout(p=0.1, inplace=False)\n",
       "            )\n",
       "            (output): RobertaSelfOutput(\n",
       "              (dense): Linear(in_features=768, out_features=768, bias=True)\n",
       "              (LayerNorm): LayerNorm((768,), eps=1e-12, elementwise_affine=True)\n",
       "              (dropout): Dropout(p=0.1, inplace=False)\n",
       "            )\n",
       "          )\n",
       "          (intermediate): RobertaIntermediate(\n",
       "            (dense): Linear(in_features=768, out_features=3072, bias=True)\n",
       "            (intermediate_act_fn): GELUActivation()\n",
       "          )\n",
       "          (output): RobertaOutput(\n",
       "            (dense): Linear(in_features=3072, out_features=768, bias=True)\n",
       "            (LayerNorm): LayerNorm((768,), eps=1e-12, elementwise_affine=True)\n",
       "            (dropout): Dropout(p=0.1, inplace=False)\n",
       "          )\n",
       "        )\n",
       "      )\n",
       "    )\n",
       "  )\n",
       "  (classifier): RobertaClassificationHead(\n",
       "    (dense): Linear(in_features=768, out_features=768, bias=True)\n",
       "    (dropout): Dropout(p=0.1, inplace=False)\n",
       "    (out_proj): Linear(in_features=768, out_features=5, bias=True)\n",
       "  )\n",
       ")"
      ]
     },
     "execution_count": 54,
     "metadata": {},
     "output_type": "execute_result"
    }
   ],
   "source": [
    "nn_model.to('cpu')"
   ]
  },
  {
   "cell_type": "code",
   "execution_count": 60,
   "id": "cebd6c5bba16107f",
   "metadata": {
    "ExecuteTime": {
     "end_time": "2023-12-10T16:13:45.705226Z",
     "start_time": "2023-12-10T16:13:45.582855Z"
    }
   },
   "outputs": [
    {
     "name": "stdout",
     "output_type": "stream",
     "text": [
      "Text: Майже 10 місяців минуло з тих пір, як внаслідок рутинної медичної процедури 22 пацієнти лікарні у Чорткові на Тернопільщині втратили зір. З тих пір двоє пацієнтів померли, ще сімом видалили очі. Решті ж постраждалих, попри безкінечні спроби, так і не змогли повернути собі зір.І навіть попри резонанс та кричущість всієї ситуації, медики, які вкололи пацієнтам препарат невідомого походження, продовжують працювати, а жодних звинувачень їм досі офіційно не висунули. Як розвивається розслідування масштабного випадку медичної недбалості, повідомляє сайт \"Тернополяни\"., Predicted Label: 1\n",
      "Text: Another example text., Predicted Label: 3\n",
      "Text: And one more., Predicted Label: 3\n"
     ]
    }
   ],
   "source": [
    "new_texts = ['Майже 10 місяців минуло з тих пір, як внаслідок рутинної медичної процедури 22 пацієнти лікарні у Чорткові на Тернопільщині втратили зір. З тих пір двоє пацієнтів померли, ще сімом видалили очі. Решті ж постраждалих, попри безкінечні спроби, так і не змогли повернути собі зір.І навіть попри резонанс та кричущість всієї ситуації, медики, які вкололи пацієнтам препарат невідомого походження, продовжують працювати, а жодних звинувачень їм досі офіційно не висунули. Як розвивається розслідування масштабного випадку медичної недбалості, повідомляє сайт \"Тернополяни\".', \"Another example text.\", \"And one more.\"]\n",
    "\n",
    "# Tokenize and encode the new texts\n",
    "tokenized_texts = tokenizer(new_texts, padding=True, truncation=True, return_tensors='pt')\n",
    "\n",
    "# Make predictions\n",
    "with torch.no_grad():\n",
    "    logits = nn_model(**tokenized_texts).logits\n",
    "\n",
    "# Convert logits to probabilities using softmax\n",
    "probs = torch.nn.functional.softmax(logits, dim=1)\n",
    "\n",
    "# Get predicted labels (assuming a classification task)\n",
    "predicted_labels = torch.argmax(probs, dim=1).tolist()\n",
    "\n",
    "# Display the results\n",
    "for text, label in zip(new_texts, predicted_labels):\n",
    "    print(f\"Text: {text}, Predicted Label: {label}\")"
   ]
  },
  {
   "cell_type": "code",
   "execution_count": 59,
   "id": "332ca4957f4a7516",
   "metadata": {
    "ExecuteTime": {
     "end_time": "2023-12-10T16:10:57.880157Z",
     "start_time": "2023-12-10T16:10:57.870503Z"
    }
   },
   "outputs": [
    {
     "data": {
      "text/plain": [
       "tensor([[3.2714e-02, 5.0477e-05, 7.7883e-01, 3.1753e-06, 1.8840e-01],\n",
       "        [4.6999e-06, 8.7924e-03, 3.4317e-04, 9.9052e-01, 3.4381e-04],\n",
       "        [6.0520e-08, 3.2296e-07, 1.3685e-06, 9.9998e-01, 1.4702e-05]])"
      ]
     },
     "execution_count": 59,
     "metadata": {},
     "output_type": "execute_result"
    }
   ],
   "source": [
    "probs"
   ]
  },
  {
   "cell_type": "code",
   "execution_count": 57,
   "id": "48d60324a4f9eb37",
   "metadata": {
    "ExecuteTime": {
     "end_time": "2023-12-10T16:08:17.186266Z",
     "start_time": "2023-12-10T16:08:17.168906Z"
    }
   },
   "outputs": [
    {
     "data": {
      "text/plain": [
       "[3, 3, 3]"
      ]
     },
     "execution_count": 57,
     "metadata": {},
     "output_type": "execute_result"
    }
   ],
   "source": [
    "predicted_labels"
   ]
  }
 ],
 "metadata": {
  "kernelspec": {
   "display_name": "Python 3 (ipykernel)",
   "language": "python",
   "name": "python3"
  },
  "language_info": {
   "codemirror_mode": {
    "name": "ipython",
    "version": 3
   },
   "file_extension": ".py",
   "mimetype": "text/x-python",
   "name": "python",
   "nbconvert_exporter": "python",
   "pygments_lexer": "ipython3",
   "version": "3.9.12"
  }
 },
 "nbformat": 4,
 "nbformat_minor": 5
}
