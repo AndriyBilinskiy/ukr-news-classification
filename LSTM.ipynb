{
 "cells": [
  {
   "cell_type": "code",
   "execution_count": 1,
   "id": "ed454c13",
   "metadata": {
    "scrolled": true
   },
   "outputs": [
    {
     "name": "stdout",
     "output_type": "stream",
     "text": [
      "LSTM.ipynb                 scraping.ipynb\r\n",
      "\u001b[1m\u001b[36m__pycache__\u001b[m\u001b[m                transformer_modeling.ipynb\r\n",
      "dataset.py                 \u001b[1m\u001b[36mtsn\u001b[m\u001b[m\r\n",
      "news.csv                   ukr-news.csv\r\n",
      "requirements.txt           \u001b[1m\u001b[36munian\u001b[m\u001b[m\r\n",
      "\u001b[1m\u001b[36mresults\u001b[m\u001b[m                    \u001b[1m\u001b[36mvenv\u001b[m\u001b[m\r\n"
     ]
    }
   ],
   "source": [
    "!ls"
   ]
  },
  {
   "cell_type": "code",
   "execution_count": 1,
   "id": "01b1c3e9",
   "metadata": {},
   "outputs": [
    {
     "name": "stderr",
     "output_type": "stream",
     "text": [
      "/Users/andriy/opt/anaconda3/lib/python3.9/site-packages/scipy/__init__.py:146: UserWarning: A NumPy version >=1.16.5 and <1.23.0 is required for this version of SciPy (detected version 1.26.2\n",
      "  warnings.warn(f\"A NumPy version >={np_minversion} and <{np_maxversion}\"\n",
      "2023-12-16 13:15:29.851954: I tensorflow/core/platform/cpu_feature_guard.cc:182] This TensorFlow binary is optimized to use available CPU instructions in performance-critical operations.\n",
      "To enable the following instructions: AVX2 FMA, in other operations, rebuild TensorFlow with the appropriate compiler flags.\n"
     ]
    }
   ],
   "source": [
    "import pandas as pd\n",
    "import numpy as np\n",
    "from sklearn.model_selection import train_test_split\n",
    "from datasets import list_datasets, load_dataset\n",
    "from tensorflow.keras.callbacks import ModelCheckpoint\n",
    "import tensorflow"
   ]
  },
  {
   "cell_type": "code",
   "execution_count": null,
   "id": "def45450",
   "metadata": {},
   "outputs": [],
   "source": [
    "# df = pd.read_csv('ukr-news.csv')\n",
    "df = load_dataset('AndriyBilinskiy/ukr-news', split='train').to_pandas()"
   ]
  },
  {
   "cell_type": "code",
   "execution_count": null,
   "id": "66e0c2cc",
   "metadata": {},
   "outputs": [],
   "source": [
    "df = df[df['category'].isin(['economic', 'health', 'polit', 'science', 'war'])]"
   ]
  },
  {
   "cell_type": "code",
   "execution_count": null,
   "id": "3c48069b",
   "metadata": {
    "scrolled": false
   },
   "outputs": [],
   "source": [
    "from tensorflow.keras.preprocessing.text import Tokenizer\n",
    "from tensorflow.keras.preprocessing.sequence import pad_sequences\n",
    "from tensorflow.keras.models import Sequential\n",
    "from tensorflow.keras.layers import Embedding, LSTM, Dropout, Dense\n",
    "from sklearn.model_selection import train_test_split\n",
    "from sklearn.preprocessing import LabelEncoder\n",
    "\n",
    "model_checkpoint = ModelCheckpoint(\"model.h5\", save_best_only=True, monitor='val_accuracy', mode='max')\n",
    "\n",
    "\n",
    "tokenizer = Tokenizer()\n",
    "tokenizer.fit_on_texts(df['text'])\n",
    "total_words = len(tokenizer.word_index) + 1\n",
    "\n",
    "sequences = tokenizer.texts_to_sequences(df['text'])\n",
    "\n",
    "padded_sequences = pad_sequences(sequences, maxlen=50, padding='post')\n",
    "\n",
    "label_encoder = LabelEncoder()\n",
    "labels = label_encoder.fit_transform(df['category'])\n",
    "\n",
    "X_train, X_test, y_train, y_test = train_test_split(padded_sequences, labels, test_size=0.2, random_state=42)\n",
    "\n",
    "embedding_vector_features = 100\n",
    "model = Sequential()\n",
    "model.add(Embedding(total_words, embedding_vector_features, input_length=50))\n",
    "model.add(LSTM(128, activation='relu', return_sequences=True))\n",
    "model.add(Dropout(0.2))\n",
    "model.add(LSTM(128, activation='relu'))\n",
    "model.add(Dropout(0.2))\n",
    "model.add(Dense(32, activation='relu'))\n",
    "model.add(Dropout(0.2))\n",
    "model.add(Dense(5, activation='softmax'))\n",
    "\n",
    "model.compile(loss='sparse_categorical_crossentropy', optimizer='adam', metrics=['accuracy'])\n",
    "\n",
    "print(model.summary())\n",
    "\n",
    "model.fit(X_train, y_train, validation_data=(X_test, y_test), epochs=60, batch_size=64, callbacks=[model_checkpoint])\n"
   ]
  },
  {
   "cell_type": "code",
   "execution_count": 38,
   "id": "9b5115f0",
   "metadata": {},
   "outputs": [
    {
     "name": "stdout",
     "output_type": "stream",
     "text": [
      "Kmeans.ipynb               \u001b[1m\u001b[36mresults\u001b[m\u001b[m\r\n",
      "LSTM.ipynb                 scraping.ipynb\r\n",
      "\u001b[1m\u001b[36m__pycache__\u001b[m\u001b[m                transformer_modeling.ipynb\r\n",
      "dataset.py                 \u001b[1m\u001b[36mtsn\u001b[m\u001b[m\r\n",
      "model_checkpoint.h5        ukr-news.csv\r\n",
      "news.csv                   \u001b[1m\u001b[36munian\u001b[m\u001b[m\r\n",
      "requirements.txt           \u001b[1m\u001b[36mvenv\u001b[m\u001b[m\r\n"
     ]
    }
   ],
   "source": [
    "!ls"
   ]
  },
  {
   "cell_type": "code",
   "execution_count": 39,
   "id": "eca5c642",
   "metadata": {},
   "outputs": [],
   "source": [
    "from tensorflow.keras.models import load_model\n",
    "\n",
    "model_path_to_load = \"model_checkpoint.h5\"\n",
    "loaded_model = load_model(model_path_to_load)"
   ]
  },
  {
   "cell_type": "code",
   "execution_count": 40,
   "id": "afb60f02",
   "metadata": {},
   "outputs": [
    {
     "data": {
      "text/plain": [
       "<keras.src.engine.sequential.Sequential at 0x7fc0490e1310>"
      ]
     },
     "execution_count": 40,
     "metadata": {},
     "output_type": "execute_result"
    }
   ],
   "source": [
    "loaded_model"
   ]
  },
  {
   "cell_type": "code",
   "execution_count": 42,
   "id": "01c8705d",
   "metadata": {
    "scrolled": true
   },
   "outputs": [
    {
     "data": {
      "text/plain": [
       "array([[  6460,  43398,    796, ..., 322932,   1777,     21],\n",
       "       [  9351,   2623,  10609, ...,   1496,   5507,     82],\n",
       "       [   645,     13,      2, ...,  87491,  16044,   4844],\n",
       "       ...,\n",
       "       [  2579,   2229,  10912, ...,   6424,      2,    827],\n",
       "       [289108,   6117,   8628, ...,  39791,      1,    769],\n",
       "       [261060,      1,  71230, ...,     56,   2227,   2498]], dtype=int32)"
      ]
     },
     "execution_count": 42,
     "metadata": {},
     "output_type": "execute_result"
    }
   ],
   "source": [
    "X_test"
   ]
  },
  {
   "cell_type": "code",
   "execution_count": 52,
   "id": "805b7a8e",
   "metadata": {},
   "outputs": [],
   "source": [
    "predicted_labels = np.load(\"LSTM_predict.npy\")"
   ]
  },
  {
   "cell_type": "code",
   "execution_count": 44,
   "id": "f2f4f1eb",
   "metadata": {
    "scrolled": true
   },
   "outputs": [
    {
     "data": {
      "text/plain": [
       "array([4, 2, 0, ..., 3, 3, 0])"
      ]
     },
     "execution_count": 44,
     "metadata": {},
     "output_type": "execute_result"
    }
   ],
   "source": [
    "y_test"
   ]
  },
  {
   "cell_type": "code",
   "execution_count": 55,
   "id": "5c49bafa",
   "metadata": {},
   "outputs": [],
   "source": [
    "categories = [\"is__economic\",\"is__health\",\"is__polit\",\"is__science\",\"is__war\"]"
   ]
  },
  {
   "cell_type": "code",
   "execution_count": 56,
   "id": "6d4b39b3",
   "metadata": {},
   "outputs": [],
   "source": [
    "predicted_labels = [categories[i] for i in predicted_labels]\n",
    "y_test = [categories[i] for i in y_test]"
   ]
  },
  {
   "cell_type": "code",
   "execution_count": 57,
   "id": "93a38602",
   "metadata": {},
   "outputs": [
    {
     "data": {
      "text/plain": [
       "0.8043184885290149"
      ]
     },
     "execution_count": 57,
     "metadata": {},
     "output_type": "execute_result"
    }
   ],
   "source": [
    "from sklearn.metrics import accuracy_score\n",
    "from sklearn.metrics import accuracy_score, classification_report\n",
    "\n",
    "accuracy = accuracy_score(y_test, predicted_labels)\n",
    "accuracy"
   ]
  },
  {
   "cell_type": "code",
   "execution_count": 64,
   "id": "dd503416",
   "metadata": {},
   "outputs": [
    {
     "name": "stdout",
     "output_type": "stream",
     "text": [
      "              precision    recall  f1-score   support\n",
      "\n",
      "is__economic       0.93      0.87      0.90       728\n",
      "  is__health       0.64      0.78      0.70       748\n",
      "   is__polit       0.94      0.89      0.91       805\n",
      " is__science       0.79      0.68      0.73       655\n",
      "     is__war       0.76      0.79      0.77       769\n",
      "\n",
      "    accuracy                           0.80      3705\n",
      "   macro avg       0.81      0.80      0.80      3705\n",
      "weighted avg       0.81      0.80      0.81      3705\n",
      "\n"
     ]
    },
    {
     "data": {
      "text/plain": [
       "0.8043184885290149"
      ]
     },
     "execution_count": 64,
     "metadata": {},
     "output_type": "execute_result"
    }
   ],
   "source": [
    "print(classification_report(y_test, predicted_labels))\n",
    "accuracy"
   ]
  },
  {
   "cell_type": "code",
   "execution_count": 63,
   "id": "f6455828",
   "metadata": {},
   "outputs": [
    {
     "data": {
      "image/png": "[encoded data removed]",
      "text/plain": [
       "<Figure size 864x864 with 2 Axes>"
      ]
     },
     "metadata": {
      "needs_background": "light"
     },
     "output_type": "display_data"
    }
   ],
   "source": [
    "import numpy as np\n",
    "import matplotlib.pyplot as plt\n",
    "from sklearn.metrics import confusion_matrix, ConfusionMatrixDisplay\n",
    "from tabulate import tabulate\n",
    "\n",
    "\n",
    "# Calculate confusion matrix\n",
    "conf_matrix = confusion_matrix(y_test, predicted_labels)\n",
    "fig, ax = plt.subplots(figsize=(12, 12))\n",
    "# Display confusion matrix\n",
    "disp = ConfusionMatrixDisplay(conf_matrix, display_labels=np.unique(y_test))\n",
    "disp.plot(cmap=plt.cm.Blues, values_format=\".0f\", ax=ax)\n",
    "plt.title('Confusion Matrix')\n",
    "plt.show()\n"
   ]
  }
 ],
 "metadata": {
  "kernelspec": {
   "display_name": "Python 3 (ipykernel)",
   "language": "python",
   "name": "python3"
  },
  "language_info": {
   "codemirror_mode": {
    "name": "ipython",
    "version": 3
   },
   "file_extension": ".py",
   "mimetype": "text/x-python",
   "name": "python",
   "nbconvert_exporter": "python",
   "pygments_lexer": "ipython3",
   "version": "3.9.12"
  }
 },
 "nbformat": 4,
 "nbformat_minor": 5
}
